{
 "cells": [
  {
   "cell_type": "markdown",
   "metadata": {},
   "source": [
    "# Pandas\n",
    "\n",
    "Pandas is a powerful and versatile library that simplifies the tasks of data manipulation in Python. Pandas is well-suited for working with tabular data, such as spreadsheets or SQL tables.\n",
    "\n",
    "The Pandas library is an essential tool for data analysts, scientists, and engineers working with structured data in Python.\n",
    "\n",
    "\n",
    "* It is an open source data analysis library written in Python.\n",
    "* It leverages the power and speed of NumPy to make data analysis and preprocessing easy.\n",
    "* It provides rich and highly robust data operations.\n",
    "\n",
    "\n",
    "\n",
    "## Pandas Data Structure\n",
    "\n",
    "**Pandas has two types of DS :**\n",
    "\n",
    " * **Series** : 1D array with indexes, it stores a single column or row of data in a Dataframe.\n",
    "\n",
    "\n",
    "   It's a 1D array(labeled) capable of holding any type of data.\n",
    "   \n",
    " * **Dataframe** : Tabular spreadsheet like structure representing rows each of which contains one or multiple columns.\n",
    "\n",
    "\n",
    "   It's a 2D data(labeled) structure with columns of potentially different types of data."
   ]
  },
  {
   "cell_type": "markdown",
   "metadata": {},
   "source": [
    "-----------------------------------------------------------------------------------------"
   ]
  },
  {
   "cell_type": "markdown",
   "metadata": {},
   "source": [
    "     "
   ]
  },
  {
   "cell_type": "code",
   "execution_count": 101,
   "metadata": {},
   "outputs": [],
   "source": [
    "import pandas as pd                                   # pip install pandas\n",
    "import numpy as np"
   ]
  },
  {
   "cell_type": "code",
   "execution_count": 102,
   "metadata": {},
   "outputs": [],
   "source": [
    "dict = {\n",
    "    \"name\" : ['Harry', 'Ron', 'Hermione'],\n",
    "    \"id\" : ['07', '06', '01'],\n",
    "    \"marks\" : ['50', '50', '112'],\n",
    "    \"place\" : ['Surrey', 'London', 'Australia'],\n",
    "}"
   ]
  },
  {
   "cell_type": "code",
   "execution_count": 103,
   "metadata": {},
   "outputs": [
    {
     "data": {
      "text/html": [
       "<div>\n",
       "<style scoped>\n",
       "    .dataframe tbody tr th:only-of-type {\n",
       "        vertical-align: middle;\n",
       "    }\n",
       "\n",
       "    .dataframe tbody tr th {\n",
       "        vertical-align: top;\n",
       "    }\n",
       "\n",
       "    .dataframe thead th {\n",
       "        text-align: right;\n",
       "    }\n",
       "</style>\n",
       "<table border=\"1\" class=\"dataframe\">\n",
       "  <thead>\n",
       "    <tr style=\"text-align: right;\">\n",
       "      <th></th>\n",
       "      <th>name</th>\n",
       "      <th>id</th>\n",
       "      <th>marks</th>\n",
       "      <th>place</th>\n",
       "    </tr>\n",
       "  </thead>\n",
       "  <tbody>\n",
       "    <tr>\n",
       "      <th>0</th>\n",
       "      <td>Harry</td>\n",
       "      <td>07</td>\n",
       "      <td>50</td>\n",
       "      <td>Surrey</td>\n",
       "    </tr>\n",
       "    <tr>\n",
       "      <th>1</th>\n",
       "      <td>Ron</td>\n",
       "      <td>06</td>\n",
       "      <td>50</td>\n",
       "      <td>London</td>\n",
       "    </tr>\n",
       "    <tr>\n",
       "      <th>2</th>\n",
       "      <td>Hermione</td>\n",
       "      <td>01</td>\n",
       "      <td>112</td>\n",
       "      <td>Australia</td>\n",
       "    </tr>\n",
       "  </tbody>\n",
       "</table>\n",
       "</div>"
      ],
      "text/plain": [
       "       name  id marks      place\n",
       "0     Harry  07    50     Surrey\n",
       "1       Ron  06    50     London\n",
       "2  Hermione  01   112  Australia"
      ]
     },
     "execution_count": 103,
     "metadata": {},
     "output_type": "execute_result"
    }
   ],
   "source": [
    "df = pd.DataFrame(dict)                       # creates data frame, kind of an excel sheet, for faster indexing, organizing \n",
    "df"
   ]
  },
  {
   "cell_type": "markdown",
   "metadata": {},
   "source": [
    "index  --> rows\n",
    "\n",
    "columns  -->  columns\n",
    "\n"
   ]
  },
  {
   "cell_type": "markdown",
   "metadata": {},
   "source": [
    "Display particular Data "
   ]
  },
  {
   "cell_type": "code",
   "execution_count": 104,
   "metadata": {},
   "outputs": [
    {
     "data": {
      "text/html": [
       "<div>\n",
       "<style scoped>\n",
       "    .dataframe tbody tr th:only-of-type {\n",
       "        vertical-align: middle;\n",
       "    }\n",
       "\n",
       "    .dataframe tbody tr th {\n",
       "        vertical-align: top;\n",
       "    }\n",
       "\n",
       "    .dataframe thead th {\n",
       "        text-align: right;\n",
       "    }\n",
       "</style>\n",
       "<table border=\"1\" class=\"dataframe\">\n",
       "  <thead>\n",
       "    <tr style=\"text-align: right;\">\n",
       "      <th></th>\n",
       "      <th>name</th>\n",
       "      <th>id</th>\n",
       "      <th>marks</th>\n",
       "      <th>place</th>\n",
       "    </tr>\n",
       "  </thead>\n",
       "  <tbody>\n",
       "    <tr>\n",
       "      <th>0</th>\n",
       "      <td>Harry</td>\n",
       "      <td>07</td>\n",
       "      <td>50</td>\n",
       "      <td>Surrey</td>\n",
       "    </tr>\n",
       "    <tr>\n",
       "      <th>1</th>\n",
       "      <td>Ron</td>\n",
       "      <td>06</td>\n",
       "      <td>50</td>\n",
       "      <td>London</td>\n",
       "    </tr>\n",
       "  </tbody>\n",
       "</table>\n",
       "</div>"
      ],
      "text/plain": [
       "    name  id marks   place\n",
       "0  Harry  07    50  Surrey\n",
       "1    Ron  06    50  London"
      ]
     },
     "execution_count": 104,
     "metadata": {},
     "output_type": "execute_result"
    }
   ],
   "source": [
    "df.head(2)                                              # display x rows from the top"
   ]
  },
  {
   "cell_type": "code",
   "execution_count": 105,
   "metadata": {},
   "outputs": [
    {
     "data": {
      "text/html": [
       "<div>\n",
       "<style scoped>\n",
       "    .dataframe tbody tr th:only-of-type {\n",
       "        vertical-align: middle;\n",
       "    }\n",
       "\n",
       "    .dataframe tbody tr th {\n",
       "        vertical-align: top;\n",
       "    }\n",
       "\n",
       "    .dataframe thead th {\n",
       "        text-align: right;\n",
       "    }\n",
       "</style>\n",
       "<table border=\"1\" class=\"dataframe\">\n",
       "  <thead>\n",
       "    <tr style=\"text-align: right;\">\n",
       "      <th></th>\n",
       "      <th>name</th>\n",
       "      <th>id</th>\n",
       "      <th>marks</th>\n",
       "      <th>place</th>\n",
       "    </tr>\n",
       "  </thead>\n",
       "  <tbody>\n",
       "    <tr>\n",
       "      <th>1</th>\n",
       "      <td>Ron</td>\n",
       "      <td>06</td>\n",
       "      <td>50</td>\n",
       "      <td>London</td>\n",
       "    </tr>\n",
       "    <tr>\n",
       "      <th>2</th>\n",
       "      <td>Hermione</td>\n",
       "      <td>01</td>\n",
       "      <td>112</td>\n",
       "      <td>Australia</td>\n",
       "    </tr>\n",
       "  </tbody>\n",
       "</table>\n",
       "</div>"
      ],
      "text/plain": [
       "       name  id marks      place\n",
       "1       Ron  06    50     London\n",
       "2  Hermione  01   112  Australia"
      ]
     },
     "execution_count": 105,
     "metadata": {},
     "output_type": "execute_result"
    }
   ],
   "source": [
    "df.tail(2)                                              # displays x rows from the bottom"
   ]
  },
  {
   "cell_type": "code",
   "execution_count": 106,
   "metadata": {},
   "outputs": [
    {
     "data": {
      "text/html": [
       "<div>\n",
       "<style scoped>\n",
       "    .dataframe tbody tr th:only-of-type {\n",
       "        vertical-align: middle;\n",
       "    }\n",
       "\n",
       "    .dataframe tbody tr th {\n",
       "        vertical-align: top;\n",
       "    }\n",
       "\n",
       "    .dataframe thead th {\n",
       "        text-align: right;\n",
       "    }\n",
       "</style>\n",
       "<table border=\"1\" class=\"dataframe\">\n",
       "  <thead>\n",
       "    <tr style=\"text-align: right;\">\n",
       "      <th></th>\n",
       "      <th>name</th>\n",
       "      <th>id</th>\n",
       "      <th>marks</th>\n",
       "      <th>place</th>\n",
       "    </tr>\n",
       "  </thead>\n",
       "  <tbody>\n",
       "    <tr>\n",
       "      <th>2</th>\n",
       "      <td>Hermione</td>\n",
       "      <td>01</td>\n",
       "      <td>112</td>\n",
       "      <td>Australia</td>\n",
       "    </tr>\n",
       "    <tr>\n",
       "      <th>0</th>\n",
       "      <td>Harry</td>\n",
       "      <td>07</td>\n",
       "      <td>50</td>\n",
       "      <td>Surrey</td>\n",
       "    </tr>\n",
       "  </tbody>\n",
       "</table>\n",
       "</div>"
      ],
      "text/plain": [
       "       name  id marks      place\n",
       "2  Hermione  01   112  Australia\n",
       "0     Harry  07    50     Surrey"
      ]
     },
     "execution_count": 106,
     "metadata": {},
     "output_type": "execute_result"
    }
   ],
   "source": [
    "df.sample(2)                                            # displays random x rows "
   ]
  },
  {
   "cell_type": "markdown",
   "metadata": {},
   "source": [
    "Description of the data"
   ]
  },
  {
   "cell_type": "code",
   "execution_count": 107,
   "metadata": {},
   "outputs": [
    {
     "data": {
      "text/html": [
       "<div>\n",
       "<style scoped>\n",
       "    .dataframe tbody tr th:only-of-type {\n",
       "        vertical-align: middle;\n",
       "    }\n",
       "\n",
       "    .dataframe tbody tr th {\n",
       "        vertical-align: top;\n",
       "    }\n",
       "\n",
       "    .dataframe thead th {\n",
       "        text-align: right;\n",
       "    }\n",
       "</style>\n",
       "<table border=\"1\" class=\"dataframe\">\n",
       "  <thead>\n",
       "    <tr style=\"text-align: right;\">\n",
       "      <th></th>\n",
       "      <th>name</th>\n",
       "      <th>id</th>\n",
       "      <th>marks</th>\n",
       "      <th>place</th>\n",
       "    </tr>\n",
       "  </thead>\n",
       "  <tbody>\n",
       "    <tr>\n",
       "      <th>count</th>\n",
       "      <td>3</td>\n",
       "      <td>3</td>\n",
       "      <td>3</td>\n",
       "      <td>3</td>\n",
       "    </tr>\n",
       "    <tr>\n",
       "      <th>unique</th>\n",
       "      <td>3</td>\n",
       "      <td>3</td>\n",
       "      <td>2</td>\n",
       "      <td>3</td>\n",
       "    </tr>\n",
       "    <tr>\n",
       "      <th>top</th>\n",
       "      <td>Harry</td>\n",
       "      <td>07</td>\n",
       "      <td>50</td>\n",
       "      <td>Surrey</td>\n",
       "    </tr>\n",
       "    <tr>\n",
       "      <th>freq</th>\n",
       "      <td>1</td>\n",
       "      <td>1</td>\n",
       "      <td>2</td>\n",
       "      <td>1</td>\n",
       "    </tr>\n",
       "  </tbody>\n",
       "</table>\n",
       "</div>"
      ],
      "text/plain": [
       "         name  id marks   place\n",
       "count       3   3     3       3\n",
       "unique      3   3     2       3\n",
       "top     Harry  07    50  Surrey\n",
       "freq        1   1     2       1"
      ]
     },
     "execution_count": 107,
     "metadata": {},
     "output_type": "execute_result"
    }
   ],
   "source": [
    "df.describe()"
   ]
  },
  {
   "cell_type": "markdown",
   "metadata": {},
   "source": [
    "Export CSV files   "
   ]
  },
  {
   "cell_type": "code",
   "execution_count": 108,
   "metadata": {},
   "outputs": [],
   "source": [
    "df.to_csv('info.csv')                                       # exporting to csv file that is excel sheet"
   ]
  },
  {
   "cell_type": "code",
   "execution_count": 109,
   "metadata": {},
   "outputs": [],
   "source": [
    "df.to_csv('info_no_index.csv', index=False)                 # to hide index"
   ]
  },
  {
   "cell_type": "code",
   "execution_count": 110,
   "metadata": {},
   "outputs": [
    {
     "data": {
      "text/html": [
       "<div>\n",
       "<style scoped>\n",
       "    .dataframe tbody tr th:only-of-type {\n",
       "        vertical-align: middle;\n",
       "    }\n",
       "\n",
       "    .dataframe tbody tr th {\n",
       "        vertical-align: top;\n",
       "    }\n",
       "\n",
       "    .dataframe thead th {\n",
       "        text-align: right;\n",
       "    }\n",
       "</style>\n",
       "<table border=\"1\" class=\"dataframe\">\n",
       "  <thead>\n",
       "    <tr style=\"text-align: right;\">\n",
       "      <th></th>\n",
       "      <th>name</th>\n",
       "      <th>id</th>\n",
       "      <th>marks</th>\n",
       "      <th>place</th>\n",
       "    </tr>\n",
       "  </thead>\n",
       "  <tbody>\n",
       "    <tr>\n",
       "      <th>i</th>\n",
       "      <td>Harry</td>\n",
       "      <td>07</td>\n",
       "      <td>50</td>\n",
       "      <td>Surrey</td>\n",
       "    </tr>\n",
       "    <tr>\n",
       "      <th>ii</th>\n",
       "      <td>Ron</td>\n",
       "      <td>06</td>\n",
       "      <td>50</td>\n",
       "      <td>London</td>\n",
       "    </tr>\n",
       "    <tr>\n",
       "      <th>iii</th>\n",
       "      <td>Hermione</td>\n",
       "      <td>01</td>\n",
       "      <td>112</td>\n",
       "      <td>Australia</td>\n",
       "    </tr>\n",
       "  </tbody>\n",
       "</table>\n",
       "</div>"
      ],
      "text/plain": [
       "         name  id marks      place\n",
       "i       Harry  07    50     Surrey\n",
       "ii        Ron  06    50     London\n",
       "iii  Hermione  01   112  Australia"
      ]
     },
     "execution_count": 110,
     "metadata": {},
     "output_type": "execute_result"
    }
   ],
   "source": [
    "df.index = ['i', 'ii', 'iii']                               # change the index \n",
    "df"
   ]
  },
  {
   "cell_type": "markdown",
   "metadata": {},
   "source": [
    "Renaming Columns"
   ]
  },
  {
   "cell_type": "code",
   "execution_count": 190,
   "metadata": {},
   "outputs": [
    {
     "data": {
      "text/plain": [
       "Index(['name', 'id', 'marks', 'place'], dtype='object')"
      ]
     },
     "execution_count": 190,
     "metadata": {},
     "output_type": "execute_result"
    }
   ],
   "source": [
    "df.columns"
   ]
  },
  {
   "cell_type": "code",
   "execution_count": 191,
   "metadata": {},
   "outputs": [],
   "source": [
    "df.rename(columns={'name':'Name', 'id':'Id', 'marks':'Marks', 'place':'Place'}, inplace=True)"
   ]
  },
  {
   "cell_type": "code",
   "execution_count": 192,
   "metadata": {},
   "outputs": [
    {
     "data": {
      "text/html": [
       "<div>\n",
       "<style scoped>\n",
       "    .dataframe tbody tr th:only-of-type {\n",
       "        vertical-align: middle;\n",
       "    }\n",
       "\n",
       "    .dataframe tbody tr th {\n",
       "        vertical-align: top;\n",
       "    }\n",
       "\n",
       "    .dataframe thead th {\n",
       "        text-align: right;\n",
       "    }\n",
       "</style>\n",
       "<table border=\"1\" class=\"dataframe\">\n",
       "  <thead>\n",
       "    <tr style=\"text-align: right;\">\n",
       "      <th></th>\n",
       "      <th>Name</th>\n",
       "      <th>Id</th>\n",
       "      <th>Marks</th>\n",
       "      <th>Place</th>\n",
       "    </tr>\n",
       "  </thead>\n",
       "  <tbody>\n",
       "    <tr>\n",
       "      <th>i</th>\n",
       "      <td>Harry</td>\n",
       "      <td>07</td>\n",
       "      <td>50</td>\n",
       "      <td>Surrey</td>\n",
       "    </tr>\n",
       "    <tr>\n",
       "      <th>ii</th>\n",
       "      <td>Ron</td>\n",
       "      <td>06</td>\n",
       "      <td>50</td>\n",
       "      <td>London</td>\n",
       "    </tr>\n",
       "    <tr>\n",
       "      <th>iii</th>\n",
       "      <td>Hermione</td>\n",
       "      <td>01</td>\n",
       "      <td>112</td>\n",
       "      <td>Australia</td>\n",
       "    </tr>\n",
       "  </tbody>\n",
       "</table>\n",
       "</div>"
      ],
      "text/plain": [
       "         Name  Id Marks      Place\n",
       "i       Harry  07    50     Surrey\n",
       "ii        Ron  06    50     London\n",
       "iii  Hermione  01   112  Australia"
      ]
     },
     "execution_count": 192,
     "metadata": {},
     "output_type": "execute_result"
    }
   ],
   "source": [
    "df.head()"
   ]
  },
  {
   "cell_type": "markdown",
   "metadata": {},
   "source": [
    "---------------------------------------------------------------------------------------"
   ]
  },
  {
   "cell_type": "markdown",
   "metadata": {},
   "source": [
    "Read CSV files"
   ]
  },
  {
   "cell_type": "code",
   "execution_count": 111,
   "metadata": {},
   "outputs": [
    {
     "data": {
      "text/html": [
       "<div>\n",
       "<style scoped>\n",
       "    .dataframe tbody tr th:only-of-type {\n",
       "        vertical-align: middle;\n",
       "    }\n",
       "\n",
       "    .dataframe tbody tr th {\n",
       "        vertical-align: top;\n",
       "    }\n",
       "\n",
       "    .dataframe thead th {\n",
       "        text-align: right;\n",
       "    }\n",
       "</style>\n",
       "<table border=\"1\" class=\"dataframe\">\n",
       "  <thead>\n",
       "    <tr style=\"text-align: right;\">\n",
       "      <th></th>\n",
       "      <th>Book</th>\n",
       "      <th>Author</th>\n",
       "      <th>Year</th>\n",
       "    </tr>\n",
       "  </thead>\n",
       "  <tbody>\n",
       "    <tr>\n",
       "      <th>0</th>\n",
       "      <td>Harry Potter</td>\n",
       "      <td>JK Rowling</td>\n",
       "      <td>1997.0</td>\n",
       "    </tr>\n",
       "    <tr>\n",
       "      <th>1</th>\n",
       "      <td>Six of Crows</td>\n",
       "      <td>Leigh Bardugo</td>\n",
       "      <td>2015.0</td>\n",
       "    </tr>\n",
       "    <tr>\n",
       "      <th>2</th>\n",
       "      <td>AGGGTM</td>\n",
       "      <td>Holly Jackson</td>\n",
       "      <td>2019.0</td>\n",
       "    </tr>\n",
       "    <tr>\n",
       "      <th>3</th>\n",
       "      <td>The Cruel Prince</td>\n",
       "      <td>Holly Black</td>\n",
       "      <td>NaN</td>\n",
       "    </tr>\n",
       "    <tr>\n",
       "      <th>4</th>\n",
       "      <td>Throne of Glass</td>\n",
       "      <td>Sarah J Mass</td>\n",
       "      <td>2012.0</td>\n",
       "    </tr>\n",
       "  </tbody>\n",
       "</table>\n",
       "</div>"
      ],
      "text/plain": [
       "               Book         Author    Year\n",
       "0      Harry Potter     JK Rowling  1997.0\n",
       "1      Six of Crows  Leigh Bardugo  2015.0\n",
       "2            AGGGTM  Holly Jackson  2019.0\n",
       "3  The Cruel Prince    Holly Black     NaN\n",
       "4   Throne of Glass   Sarah J Mass  2012.0"
      ]
     },
     "execution_count": 111,
     "metadata": {},
     "output_type": "execute_result"
    }
   ],
   "source": [
    "details = pd.read_csv('details.csv')                          # reading a csv file\n",
    "details"
   ]
  },
  {
   "cell_type": "code",
   "execution_count": 112,
   "metadata": {},
   "outputs": [],
   "source": [
    "details.columns = details.columns.str.strip()                           # remove extra white spaces"
   ]
  },
  {
   "cell_type": "code",
   "execution_count": 113,
   "metadata": {},
   "outputs": [
    {
     "data": {
      "text/plain": [
       "0        Harry Potter\n",
       "1        Six of Crows\n",
       "2              AGGGTM\n",
       "3    The Cruel Prince\n",
       "4     Throne of Glass\n",
       "Name: Book, dtype: object"
      ]
     },
     "execution_count": 113,
     "metadata": {},
     "output_type": "execute_result"
    }
   ],
   "source": [
    "details['Book']"
   ]
  },
  {
   "cell_type": "code",
   "execution_count": 114,
   "metadata": {},
   "outputs": [
    {
     "data": {
      "text/plain": [
       "1997.0"
      ]
     },
     "execution_count": 114,
     "metadata": {},
     "output_type": "execute_result"
    }
   ],
   "source": [
    "details['Year'][0]"
   ]
  },
  {
   "cell_type": "code",
   "execution_count": 115,
   "metadata": {},
   "outputs": [],
   "source": [
    "#details['Year'][1] = 2015                      #change value\n",
    "#details.to_csv('details.csv')"
   ]
  },
  {
   "cell_type": "markdown",
   "metadata": {},
   "source": [
    "---------------------------------------------------------------------------------------  "
   ]
  },
  {
   "cell_type": "code",
   "execution_count": 116,
   "metadata": {},
   "outputs": [
    {
     "data": {
      "text/plain": [
       "0    <built-in method rand of numpy.random.mtrand.R...\n",
       "dtype: object"
      ]
     },
     "execution_count": 116,
     "metadata": {},
     "output_type": "execute_result"
    }
   ],
   "source": [
    "sr = pd.Series(np.random.rand)                                # generates random floating-point numbers between 0-1\n",
    "sr"
   ]
  },
  {
   "cell_type": "code",
   "execution_count": 117,
   "metadata": {},
   "outputs": [
    {
     "data": {
      "text/plain": [
       "pandas.core.series.Series"
      ]
     },
     "execution_count": 117,
     "metadata": {},
     "output_type": "execute_result"
    }
   ],
   "source": [
    "type(sr)"
   ]
  },
  {
   "cell_type": "code",
   "execution_count": 118,
   "metadata": {},
   "outputs": [
    {
     "data": {
      "text/plain": [
       "0    0.548745\n",
       "1    0.723098\n",
       "2    0.665862\n",
       "3    0.160203\n",
       "4    0.297691\n",
       "dtype: float64"
      ]
     },
     "execution_count": 118,
     "metadata": {},
     "output_type": "execute_result"
    }
   ],
   "source": [
    "sr = pd.Series(np.random.rand(5))\n",
    "sr"
   ]
  },
  {
   "cell_type": "markdown",
   "metadata": {},
   "source": [
    "---------------------------------------------------------------------------------------"
   ]
  },
  {
   "cell_type": "code",
   "execution_count": 119,
   "metadata": {},
   "outputs": [
    {
     "data": {
      "text/html": [
       "<div>\n",
       "<style scoped>\n",
       "    .dataframe tbody tr th:only-of-type {\n",
       "        vertical-align: middle;\n",
       "    }\n",
       "\n",
       "    .dataframe tbody tr th {\n",
       "        vertical-align: top;\n",
       "    }\n",
       "\n",
       "    .dataframe thead th {\n",
       "        text-align: right;\n",
       "    }\n",
       "</style>\n",
       "<table border=\"1\" class=\"dataframe\">\n",
       "  <thead>\n",
       "    <tr style=\"text-align: right;\">\n",
       "      <th></th>\n",
       "      <th>0</th>\n",
       "      <th>1</th>\n",
       "      <th>2</th>\n",
       "      <th>3</th>\n",
       "      <th>4</th>\n",
       "    </tr>\n",
       "  </thead>\n",
       "  <tbody>\n",
       "    <tr>\n",
       "      <th>0</th>\n",
       "      <td>0.123156</td>\n",
       "      <td>0.238906</td>\n",
       "      <td>0.854013</td>\n",
       "      <td>0.321454</td>\n",
       "      <td>0.924501</td>\n",
       "    </tr>\n",
       "    <tr>\n",
       "      <th>1</th>\n",
       "      <td>0.829957</td>\n",
       "      <td>0.082526</td>\n",
       "      <td>0.898882</td>\n",
       "      <td>0.702453</td>\n",
       "      <td>0.561925</td>\n",
       "    </tr>\n",
       "    <tr>\n",
       "      <th>2</th>\n",
       "      <td>0.152600</td>\n",
       "      <td>0.293425</td>\n",
       "      <td>0.878322</td>\n",
       "      <td>0.924719</td>\n",
       "      <td>0.852891</td>\n",
       "    </tr>\n",
       "    <tr>\n",
       "      <th>3</th>\n",
       "      <td>0.663906</td>\n",
       "      <td>0.169698</td>\n",
       "      <td>0.856403</td>\n",
       "      <td>0.789484</td>\n",
       "      <td>0.291239</td>\n",
       "    </tr>\n",
       "    <tr>\n",
       "      <th>4</th>\n",
       "      <td>0.910742</td>\n",
       "      <td>0.040766</td>\n",
       "      <td>0.186427</td>\n",
       "      <td>0.128770</td>\n",
       "      <td>0.538214</td>\n",
       "    </tr>\n",
       "    <tr>\n",
       "      <th>...</th>\n",
       "      <td>...</td>\n",
       "      <td>...</td>\n",
       "      <td>...</td>\n",
       "      <td>...</td>\n",
       "      <td>...</td>\n",
       "    </tr>\n",
       "    <tr>\n",
       "      <th>95</th>\n",
       "      <td>0.478546</td>\n",
       "      <td>0.181123</td>\n",
       "      <td>0.429045</td>\n",
       "      <td>0.662573</td>\n",
       "      <td>0.958692</td>\n",
       "    </tr>\n",
       "    <tr>\n",
       "      <th>96</th>\n",
       "      <td>0.230189</td>\n",
       "      <td>0.757637</td>\n",
       "      <td>0.728104</td>\n",
       "      <td>0.414319</td>\n",
       "      <td>0.383180</td>\n",
       "    </tr>\n",
       "    <tr>\n",
       "      <th>97</th>\n",
       "      <td>0.887617</td>\n",
       "      <td>0.016704</td>\n",
       "      <td>0.081143</td>\n",
       "      <td>0.649594</td>\n",
       "      <td>0.889589</td>\n",
       "    </tr>\n",
       "    <tr>\n",
       "      <th>98</th>\n",
       "      <td>0.706603</td>\n",
       "      <td>0.863383</td>\n",
       "      <td>0.895778</td>\n",
       "      <td>0.025787</td>\n",
       "      <td>0.924507</td>\n",
       "    </tr>\n",
       "    <tr>\n",
       "      <th>99</th>\n",
       "      <td>0.352633</td>\n",
       "      <td>0.013400</td>\n",
       "      <td>0.609602</td>\n",
       "      <td>0.699938</td>\n",
       "      <td>0.871482</td>\n",
       "    </tr>\n",
       "  </tbody>\n",
       "</table>\n",
       "<p>100 rows × 5 columns</p>\n",
       "</div>"
      ],
      "text/plain": [
       "           0         1         2         3         4\n",
       "0   0.123156  0.238906  0.854013  0.321454  0.924501\n",
       "1   0.829957  0.082526  0.898882  0.702453  0.561925\n",
       "2   0.152600  0.293425  0.878322  0.924719  0.852891\n",
       "3   0.663906  0.169698  0.856403  0.789484  0.291239\n",
       "4   0.910742  0.040766  0.186427  0.128770  0.538214\n",
       "..       ...       ...       ...       ...       ...\n",
       "95  0.478546  0.181123  0.429045  0.662573  0.958692\n",
       "96  0.230189  0.757637  0.728104  0.414319  0.383180\n",
       "97  0.887617  0.016704  0.081143  0.649594  0.889589\n",
       "98  0.706603  0.863383  0.895778  0.025787  0.924507\n",
       "99  0.352633  0.013400  0.609602  0.699938  0.871482\n",
       "\n",
       "[100 rows x 5 columns]"
      ]
     },
     "execution_count": 119,
     "metadata": {},
     "output_type": "execute_result"
    }
   ],
   "source": [
    "dataf = pd.DataFrame(np.random.rand(100,5), index = np.arange(100))\n",
    "dataf"
   ]
  },
  {
   "cell_type": "code",
   "execution_count": 120,
   "metadata": {},
   "outputs": [
    {
     "data": {
      "text/plain": [
       "pandas.core.frame.DataFrame"
      ]
     },
     "execution_count": 120,
     "metadata": {},
     "output_type": "execute_result"
    }
   ],
   "source": [
    "type(dataf)"
   ]
  },
  {
   "cell_type": "code",
   "execution_count": 121,
   "metadata": {},
   "outputs": [
    {
     "data": {
      "text/html": [
       "<div>\n",
       "<style scoped>\n",
       "    .dataframe tbody tr th:only-of-type {\n",
       "        vertical-align: middle;\n",
       "    }\n",
       "\n",
       "    .dataframe tbody tr th {\n",
       "        vertical-align: top;\n",
       "    }\n",
       "\n",
       "    .dataframe thead th {\n",
       "        text-align: right;\n",
       "    }\n",
       "</style>\n",
       "<table border=\"1\" class=\"dataframe\">\n",
       "  <thead>\n",
       "    <tr style=\"text-align: right;\">\n",
       "      <th></th>\n",
       "      <th>0</th>\n",
       "      <th>1</th>\n",
       "      <th>2</th>\n",
       "      <th>3</th>\n",
       "      <th>4</th>\n",
       "    </tr>\n",
       "  </thead>\n",
       "  <tbody>\n",
       "    <tr>\n",
       "      <th>count</th>\n",
       "      <td>100.000000</td>\n",
       "      <td>100.000000</td>\n",
       "      <td>100.000000</td>\n",
       "      <td>100.000000</td>\n",
       "      <td>100.000000</td>\n",
       "    </tr>\n",
       "    <tr>\n",
       "      <th>mean</th>\n",
       "      <td>0.514188</td>\n",
       "      <td>0.466666</td>\n",
       "      <td>0.429786</td>\n",
       "      <td>0.513351</td>\n",
       "      <td>0.546205</td>\n",
       "    </tr>\n",
       "    <tr>\n",
       "      <th>std</th>\n",
       "      <td>0.266110</td>\n",
       "      <td>0.300441</td>\n",
       "      <td>0.289364</td>\n",
       "      <td>0.263961</td>\n",
       "      <td>0.311056</td>\n",
       "    </tr>\n",
       "    <tr>\n",
       "      <th>min</th>\n",
       "      <td>0.050631</td>\n",
       "      <td>0.002031</td>\n",
       "      <td>0.006599</td>\n",
       "      <td>0.004623</td>\n",
       "      <td>0.006237</td>\n",
       "    </tr>\n",
       "    <tr>\n",
       "      <th>25%</th>\n",
       "      <td>0.307586</td>\n",
       "      <td>0.201248</td>\n",
       "      <td>0.157178</td>\n",
       "      <td>0.327312</td>\n",
       "      <td>0.283330</td>\n",
       "    </tr>\n",
       "    <tr>\n",
       "      <th>50%</th>\n",
       "      <td>0.505573</td>\n",
       "      <td>0.452969</td>\n",
       "      <td>0.382033</td>\n",
       "      <td>0.495807</td>\n",
       "      <td>0.571636</td>\n",
       "    </tr>\n",
       "    <tr>\n",
       "      <th>75%</th>\n",
       "      <td>0.724811</td>\n",
       "      <td>0.722574</td>\n",
       "      <td>0.702488</td>\n",
       "      <td>0.699001</td>\n",
       "      <td>0.833201</td>\n",
       "    </tr>\n",
       "    <tr>\n",
       "      <th>max</th>\n",
       "      <td>0.994356</td>\n",
       "      <td>0.984329</td>\n",
       "      <td>0.906632</td>\n",
       "      <td>0.993323</td>\n",
       "      <td>0.980529</td>\n",
       "    </tr>\n",
       "  </tbody>\n",
       "</table>\n",
       "</div>"
      ],
      "text/plain": [
       "                0           1           2           3           4\n",
       "count  100.000000  100.000000  100.000000  100.000000  100.000000\n",
       "mean     0.514188    0.466666    0.429786    0.513351    0.546205\n",
       "std      0.266110    0.300441    0.289364    0.263961    0.311056\n",
       "min      0.050631    0.002031    0.006599    0.004623    0.006237\n",
       "25%      0.307586    0.201248    0.157178    0.327312    0.283330\n",
       "50%      0.505573    0.452969    0.382033    0.495807    0.571636\n",
       "75%      0.724811    0.722574    0.702488    0.699001    0.833201\n",
       "max      0.994356    0.984329    0.906632    0.993323    0.980529"
      ]
     },
     "execution_count": 121,
     "metadata": {},
     "output_type": "execute_result"
    }
   ],
   "source": [
    "dataf.describe()"
   ]
  },
  {
   "cell_type": "code",
   "execution_count": 122,
   "metadata": {},
   "outputs": [
    {
     "data": {
      "text/plain": [
       "0    float64\n",
       "1    float64\n",
       "2    float64\n",
       "3    float64\n",
       "4    float64\n",
       "dtype: object"
      ]
     },
     "execution_count": 122,
     "metadata": {},
     "output_type": "execute_result"
    }
   ],
   "source": [
    "dataf.dtypes"
   ]
  },
  {
   "cell_type": "code",
   "execution_count": 123,
   "metadata": {},
   "outputs": [
    {
     "data": {
      "text/html": [
       "<div>\n",
       "<style scoped>\n",
       "    .dataframe tbody tr th:only-of-type {\n",
       "        vertical-align: middle;\n",
       "    }\n",
       "\n",
       "    .dataframe tbody tr th {\n",
       "        vertical-align: top;\n",
       "    }\n",
       "\n",
       "    .dataframe thead th {\n",
       "        text-align: right;\n",
       "    }\n",
       "</style>\n",
       "<table border=\"1\" class=\"dataframe\">\n",
       "  <thead>\n",
       "    <tr style=\"text-align: right;\">\n",
       "      <th></th>\n",
       "      <th>0</th>\n",
       "      <th>1</th>\n",
       "      <th>2</th>\n",
       "      <th>3</th>\n",
       "      <th>4</th>\n",
       "    </tr>\n",
       "  </thead>\n",
       "  <tbody>\n",
       "    <tr>\n",
       "      <th>0</th>\n",
       "      <td>0.123156</td>\n",
       "      <td>0.238906</td>\n",
       "      <td>0.854013</td>\n",
       "      <td>0.321454</td>\n",
       "      <td>0.924501</td>\n",
       "    </tr>\n",
       "    <tr>\n",
       "      <th>1</th>\n",
       "      <td>0.829957</td>\n",
       "      <td>0.082526</td>\n",
       "      <td>0.898882</td>\n",
       "      <td>0.702453</td>\n",
       "      <td>0.561925</td>\n",
       "    </tr>\n",
       "    <tr>\n",
       "      <th>2</th>\n",
       "      <td>0.152600</td>\n",
       "      <td>0.293425</td>\n",
       "      <td>0.878322</td>\n",
       "      <td>0.924719</td>\n",
       "      <td>0.852891</td>\n",
       "    </tr>\n",
       "    <tr>\n",
       "      <th>3</th>\n",
       "      <td>0.663906</td>\n",
       "      <td>0.169698</td>\n",
       "      <td>0.856403</td>\n",
       "      <td>0.789484</td>\n",
       "      <td>0.291239</td>\n",
       "    </tr>\n",
       "    <tr>\n",
       "      <th>4</th>\n",
       "      <td>0.910742</td>\n",
       "      <td>0.040766</td>\n",
       "      <td>0.186427</td>\n",
       "      <td>0.128770</td>\n",
       "      <td>0.538214</td>\n",
       "    </tr>\n",
       "  </tbody>\n",
       "</table>\n",
       "</div>"
      ],
      "text/plain": [
       "          0         1         2         3         4\n",
       "0  0.123156  0.238906  0.854013  0.321454  0.924501\n",
       "1  0.829957  0.082526  0.898882  0.702453  0.561925\n",
       "2  0.152600  0.293425  0.878322  0.924719  0.852891\n",
       "3  0.663906  0.169698  0.856403  0.789484  0.291239\n",
       "4  0.910742  0.040766  0.186427  0.128770  0.538214"
      ]
     },
     "execution_count": 123,
     "metadata": {},
     "output_type": "execute_result"
    }
   ],
   "source": [
    "dataf.head()"
   ]
  },
  {
   "cell_type": "code",
   "execution_count": 124,
   "metadata": {},
   "outputs": [
    {
     "name": "stderr",
     "output_type": "stream",
     "text": [
      "C:\\Users\\shubh\\AppData\\Local\\Temp\\ipykernel_14736\\2823997240.py:1: FutureWarning: ChainedAssignmentError: behaviour will change in pandas 3.0!\n",
      "You are setting values through chained assignment. Currently this works in certain cases, but when using Copy-on-Write (which will become the default behaviour in pandas 3.0) this will never work to update the original DataFrame or Series, because the intermediate object on which we are setting values will behave as a copy.\n",
      "A typical example is when you are setting values in a column of a DataFrame, like:\n",
      "\n",
      "df[\"col\"][row_indexer] = value\n",
      "\n",
      "Use `df.loc[row_indexer, \"col\"] = values` instead, to perform the assignment in a single step and ensure this keeps updating the original `df`.\n",
      "\n",
      "See the caveats in the documentation: https://pandas.pydata.org/pandas-docs/stable/user_guide/indexing.html#returning-a-view-versus-a-copy\n",
      "\n",
      "  dataf[0][0] = \"Name\"\n",
      "C:\\Users\\shubh\\AppData\\Local\\Temp\\ipykernel_14736\\2823997240.py:1: FutureWarning: Setting an item of incompatible dtype is deprecated and will raise an error in a future version of pandas. Value 'Name' has dtype incompatible with float64, please explicitly cast to a compatible dtype first.\n",
      "  dataf[0][0] = \"Name\"\n"
     ]
    },
    {
     "data": {
      "text/html": [
       "<div>\n",
       "<style scoped>\n",
       "    .dataframe tbody tr th:only-of-type {\n",
       "        vertical-align: middle;\n",
       "    }\n",
       "\n",
       "    .dataframe tbody tr th {\n",
       "        vertical-align: top;\n",
       "    }\n",
       "\n",
       "    .dataframe thead th {\n",
       "        text-align: right;\n",
       "    }\n",
       "</style>\n",
       "<table border=\"1\" class=\"dataframe\">\n",
       "  <thead>\n",
       "    <tr style=\"text-align: right;\">\n",
       "      <th></th>\n",
       "      <th>0</th>\n",
       "      <th>1</th>\n",
       "      <th>2</th>\n",
       "      <th>3</th>\n",
       "      <th>4</th>\n",
       "    </tr>\n",
       "  </thead>\n",
       "  <tbody>\n",
       "    <tr>\n",
       "      <th>0</th>\n",
       "      <td>Name</td>\n",
       "      <td>0.238906</td>\n",
       "      <td>0.854013</td>\n",
       "      <td>0.321454</td>\n",
       "      <td>0.924501</td>\n",
       "    </tr>\n",
       "    <tr>\n",
       "      <th>1</th>\n",
       "      <td>0.829957</td>\n",
       "      <td>0.082526</td>\n",
       "      <td>0.898882</td>\n",
       "      <td>0.702453</td>\n",
       "      <td>0.561925</td>\n",
       "    </tr>\n",
       "    <tr>\n",
       "      <th>2</th>\n",
       "      <td>0.1526</td>\n",
       "      <td>0.293425</td>\n",
       "      <td>0.878322</td>\n",
       "      <td>0.924719</td>\n",
       "      <td>0.852891</td>\n",
       "    </tr>\n",
       "    <tr>\n",
       "      <th>3</th>\n",
       "      <td>0.663906</td>\n",
       "      <td>0.169698</td>\n",
       "      <td>0.856403</td>\n",
       "      <td>0.789484</td>\n",
       "      <td>0.291239</td>\n",
       "    </tr>\n",
       "    <tr>\n",
       "      <th>4</th>\n",
       "      <td>0.910742</td>\n",
       "      <td>0.040766</td>\n",
       "      <td>0.186427</td>\n",
       "      <td>0.128770</td>\n",
       "      <td>0.538214</td>\n",
       "    </tr>\n",
       "  </tbody>\n",
       "</table>\n",
       "</div>"
      ],
      "text/plain": [
       "          0         1         2         3         4\n",
       "0      Name  0.238906  0.854013  0.321454  0.924501\n",
       "1  0.829957  0.082526  0.898882  0.702453  0.561925\n",
       "2    0.1526  0.293425  0.878322  0.924719  0.852891\n",
       "3  0.663906  0.169698  0.856403  0.789484  0.291239\n",
       "4  0.910742  0.040766  0.186427  0.128770  0.538214"
      ]
     },
     "execution_count": 124,
     "metadata": {},
     "output_type": "execute_result"
    }
   ],
   "source": [
    "dataf[0][0] = \"Name\"\n",
    "dataf.head()"
   ]
  },
  {
   "cell_type": "code",
   "execution_count": 125,
   "metadata": {},
   "outputs": [
    {
     "data": {
      "text/plain": [
       "0     object\n",
       "1    float64\n",
       "2    float64\n",
       "3    float64\n",
       "4    float64\n",
       "dtype: object"
      ]
     },
     "execution_count": 125,
     "metadata": {},
     "output_type": "execute_result"
    }
   ],
   "source": [
    "dataf.dtypes"
   ]
  },
  {
   "cell_type": "code",
   "execution_count": 126,
   "metadata": {},
   "outputs": [
    {
     "data": {
      "text/plain": [
       "Index([ 0,  1,  2,  3,  4,  5,  6,  7,  8,  9, 10, 11, 12, 13, 14, 15, 16, 17,\n",
       "       18, 19, 20, 21, 22, 23, 24, 25, 26, 27, 28, 29, 30, 31, 32, 33, 34, 35,\n",
       "       36, 37, 38, 39, 40, 41, 42, 43, 44, 45, 46, 47, 48, 49, 50, 51, 52, 53,\n",
       "       54, 55, 56, 57, 58, 59, 60, 61, 62, 63, 64, 65, 66, 67, 68, 69, 70, 71,\n",
       "       72, 73, 74, 75, 76, 77, 78, 79, 80, 81, 82, 83, 84, 85, 86, 87, 88, 89,\n",
       "       90, 91, 92, 93, 94, 95, 96, 97, 98, 99],\n",
       "      dtype='int32')"
      ]
     },
     "execution_count": 126,
     "metadata": {},
     "output_type": "execute_result"
    }
   ],
   "source": [
    "dataf.index"
   ]
  },
  {
   "cell_type": "code",
   "execution_count": 127,
   "metadata": {},
   "outputs": [
    {
     "data": {
      "text/plain": [
       "RangeIndex(start=0, stop=5, step=1)"
      ]
     },
     "execution_count": 127,
     "metadata": {},
     "output_type": "execute_result"
    }
   ],
   "source": [
    "dataf.columns"
   ]
  },
  {
   "cell_type": "markdown",
   "metadata": {},
   "source": [
    "Converting to Numpy Array"
   ]
  },
  {
   "cell_type": "code",
   "execution_count": 128,
   "metadata": {},
   "outputs": [
    {
     "data": {
      "text/plain": [
       "array([['Name', 0.23890552979990343, 0.8540129075812187,\n",
       "        0.3214544166254002, 0.9245013510566181],\n",
       "       [0.8299574666138686, 0.08252580093632789, 0.8988820329928612,\n",
       "        0.7024533383544596, 0.5619250321604241],\n",
       "       [0.15259991002073559, 0.29342548004639735, 0.8783217922118779,\n",
       "        0.9247192542196006, 0.8528906126347884],\n",
       "       [0.6639058720111177, 0.16969815160895674, 0.8564028392435974,\n",
       "        0.7894841589343262, 0.29123891372391897],\n",
       "       [0.9107420316457207, 0.040766047901665714, 0.1864271588076758,\n",
       "        0.12877011742451017, 0.5382138895311845],\n",
       "       [0.6930349709369326, 0.07556536023084814, 0.1846131956158622,\n",
       "        0.3749999313985314, 0.7074021791426401],\n",
       "       [0.3968948706077561, 0.4622733306100235, 0.23036921860195858,\n",
       "        0.7923303455535389, 0.19086693181841197],\n",
       "       [0.3109453582640539, 0.0020312817787629944, 0.5597797504637977,\n",
       "        0.9933234300897023, 0.5927700874264956],\n",
       "       [0.530214971345689, 0.9650658927601965, 0.1651495413752584,\n",
       "        0.4718686151528513, 0.33260814686401885],\n",
       "       [0.8902877501486427, 0.33441602721049624, 0.029582519906665605,\n",
       "        0.42146642889606145, 0.4408551976111308],\n",
       "       [0.5209921940171094, 0.2013448716428835, 0.7008802506290285,\n",
       "        0.6724179814620658, 0.7147351421552904],\n",
       "       [0.3055776068339674, 0.5397848676068552, 0.10830481258177871,\n",
       "        0.2790695932858086, 0.378046295488772],\n",
       "       [0.25838642251136434, 0.552142538237104, 0.8595394171855825,\n",
       "        0.4475013261239954, 0.023916453405247062],\n",
       "       [0.42611239344427354, 0.9467295539244145, 0.463215283899706,\n",
       "        0.32926500780987866, 0.2281991082389745],\n",
       "       [0.6534780596332938, 0.5424115566719824, 0.3004516423188489,\n",
       "        0.8280646904014424, 0.9789974152438898],\n",
       "       [0.9781196672986323, 0.9433232980076047, 0.6374077566265514,\n",
       "        0.21411249192166015, 0.45436278623788995],\n",
       "       [0.20550102861076858, 0.5354436095780382, 0.9066315276500199,\n",
       "        0.33832416184917047, 0.6695121540003404],\n",
       "       [0.5794272303717823, 0.8902703636669832, 0.771173675455446,\n",
       "        0.16067516438443863, 0.9747449193202758],\n",
       "       [0.8570874513347949, 0.9495931363455927, 0.5310440693114958,\n",
       "        0.583559516382307, 0.12968879143695833],\n",
       "       [0.151951440800295, 0.7467572399033447, 0.11762731656035119,\n",
       "        0.6097287577655389, 0.28574978567697806],\n",
       "       [0.3696238568967283, 0.6032008343537537, 0.8238068610709008,\n",
       "        0.7656166038213912, 0.08252281802161743],\n",
       "       [0.7861526639872015, 0.37624676054907846, 0.07660572400198562,\n",
       "        0.48917179148226364, 0.8918816145158606],\n",
       "       [0.3112878624509361, 0.336458845701715, 0.38415147758520607,\n",
       "        0.4501071301566175, 0.7952172775796116],\n",
       "       [0.3451955988040992, 0.45432103009939817, 0.11665441763139517,\n",
       "        0.2886476931745744, 0.9044265724888753],\n",
       "       [0.16848111269833932, 0.38560787957612863, 0.00659879702303634,\n",
       "        0.8803074308430493, 0.38646127661514773],\n",
       "       [0.6265854411856578, 0.04346027326249824, 0.2752275458770215,\n",
       "        0.7979708361138932, 0.21787571079790025],\n",
       "       [0.2697042839875108, 0.27370727416050467, 0.13715660322546586,\n",
       "        0.6706618796469106, 0.9512774788923044],\n",
       "       [0.9336653767836641, 0.6344266314110482, 0.07421175385788414,\n",
       "        0.6583926324585893, 0.20436430603689304],\n",
       "       [0.7383477016157209, 0.20095927609357123, 0.7728742093692692,\n",
       "        0.8756714765869329, 0.8569563861220775],\n",
       "       [0.7875557681826875, 0.09024643480994488, 0.6535536656425552,\n",
       "        0.6602123505646905, 0.4054439004874034],\n",
       "       [0.3470594018646407, 0.5158602024560301, 0.6520195485588436,\n",
       "        0.6781602597134491, 0.6877552854477765],\n",
       "       [0.7468161089235054, 0.21249773087320423, 0.754932449539522,\n",
       "        0.4076208018750914, 0.5600035653606135],\n",
       "       [0.09942197611455916, 0.19085189732711705, 0.08987823435369013,\n",
       "        0.37665829224137815, 0.3427748676720187],\n",
       "       [0.9833082449049528, 0.6178459549229041, 0.008732101284418703,\n",
       "        0.4932207732705942, 0.7970809868113612],\n",
       "       [0.5731088711243012, 0.982965772600039, 0.13113003213584162,\n",
       "        0.6816872320287307, 0.9521117486604104],\n",
       "       [0.7060787756159924, 0.6324262200758666, 0.4155083361651709,\n",
       "        0.6652816836526597, 0.5809079885451554],\n",
       "       [0.3057563282094329, 0.7989715802123344, 0.4941209779886854,\n",
       "        0.22981954383758418, 0.7207170498667291],\n",
       "       [0.6775610457375353, 0.07097197623184948, 0.5285404933811393,\n",
       "        0.07654049447016675, 0.09253218773660443],\n",
       "       [0.8961086747438645, 0.27142537404606315, 0.2744590686323086,\n",
       "        0.3528407695335163, 0.7416464342678202],\n",
       "       [0.5992639587912889, 0.8719831078614543, 0.1629183853098759,\n",
       "        0.6022765411774658, 0.6428527454702567],\n",
       "       [0.6538222603962043, 0.6603443557326935, 0.02874117190933434,\n",
       "        0.26673960602415914, 0.09405625272106599],\n",
       "       [0.3740144351119121, 0.7985056900526113, 0.13427457597246628,\n",
       "        0.4983929739934019, 0.46917652948416355],\n",
       "       [0.49015288725486905, 0.22108732517040108, 0.2591311297554715,\n",
       "        0.9640049780098429, 0.9547530196952949],\n",
       "       [0.673781237797832, 0.664807315863914, 0.17937111796074034,\n",
       "        0.33013630752863554, 0.3201395224077903],\n",
       "       [0.39231554392233337, 0.4695510733632918, 0.31521060940140144,\n",
       "        0.6986890277709836, 0.165714066358148],\n",
       "       [0.7226559750280838, 0.25351266849873677, 0.12463951588651112,\n",
       "        0.12314975396748695, 0.08178387919883034],\n",
       "       [0.31709898025946903, 0.17843658433474996, 0.05712061168929794,\n",
       "        0.825629871043642, 0.7494196931707174],\n",
       "       [0.7079682258582061, 0.3784033753987158, 0.6518486294675857,\n",
       "        0.582093674404324, 0.06708637850948518],\n",
       "       [0.29524405849504176, 0.7181060791972231, 0.043594175427248194,\n",
       "        0.6553894262322215, 0.35105389578068313],\n",
       "       [0.9362083211947262, 0.23522068524192163, 0.6349872482410719,\n",
       "        0.3935559728268945, 0.8869079187871082],\n",
       "       [0.8927028908546655, 0.15665718718065869, 0.19979853233372202,\n",
       "        0.287077577562337, 0.7190089368626681],\n",
       "       [0.07032584920222784, 0.3248973291752041, 0.7458577373491061,\n",
       "        0.688332938185181, 0.9244424580284949],\n",
       "       [0.1836301588114766, 0.8468315633562769, 0.8212575687107264,\n",
       "        0.5590640075165525, 0.9268701417290478],\n",
       "       [0.9465957290717315, 0.018997959402768827, 0.7094630461154267,\n",
       "        0.4213052869969981, 0.9544704944056096],\n",
       "       [0.43257173045556985, 0.44275030720449104, 0.33437046659909486,\n",
       "        0.9828012256345318, 0.9584394536407524],\n",
       "       [0.7544445672854663, 0.48928642737445804, 0.7073129176485647,\n",
       "        0.8016427698677974, 0.953205502507494],\n",
       "       [0.7097299643962762, 0.8743526104242384, 0.06738727051295057,\n",
       "        0.7838370962346308, 0.20815648537999099],\n",
       "       [0.12425340316619027, 0.382086130081587, 0.4808314208931158,\n",
       "        0.4360590750700629, 0.27607199948310623],\n",
       "       [0.30844776037408694, 0.08461827500929009, 0.4015377268723055,\n",
       "        0.24020277603137985, 0.17585746011283288],\n",
       "       [0.545624463098262, 0.24214302413963418, 0.01037204294676286,\n",
       "        0.4735168599090772, 0.41394576748016054],\n",
       "       [0.4025879201904058, 0.9541593966036812, 0.6608798176187868,\n",
       "        0.7473987763292989, 0.9805289012233663],\n",
       "       [0.6478268625732612, 0.12464726695859452, 0.8546224990723422,\n",
       "        0.611192761429339, 0.688474458585233],\n",
       "       [0.40134637200554724, 0.3005910369312189, 0.2504466047052286,\n",
       "        0.8713213015717869, 0.2960909108783344],\n",
       "       [0.8343959378363318, 0.33227429268436504, 0.25453481266675293,\n",
       "        0.21962954189832318, 0.8180887316353438],\n",
       "       [0.19973505958477344, 0.9402635020131761, 0.5563511061829746,\n",
       "        0.05403397480227479, 0.006237014557350928],\n",
       "       [0.16701614392866204, 0.24831287014389392, 0.08385006198829448,\n",
       "        0.9775225386476921, 0.01885005703536935],\n",
       "       [0.5851816511317116, 0.7641990779439172, 0.37658639273222083,\n",
       "        0.6775487126588237, 0.7629263028592382],\n",
       "       [0.33831931872392906, 0.7153818430997035, 0.27992938230830755,\n",
       "        0.6628924198472881, 0.7047294713376533],\n",
       "       [0.21567951829496268, 0.5742048864705924, 0.8031625783902683,\n",
       "        0.5362614556132815, 0.030990323922721386],\n",
       "       [0.7312755900192549, 0.9569704263535007, 0.8350332038553244,\n",
       "        0.37634846104601904, 0.7400624538031202],\n",
       "       [0.5877321638322948, 0.8536633286984056, 0.6276639048314325,\n",
       "        0.16961057021852932, 0.15397394415102217],\n",
       "       [0.8474371548424298, 0.7459375713022958, 0.882161461136235,\n",
       "        0.8290096832347071, 0.3268426775897846],\n",
       "       [0.19866464818865226, 0.8229573384491479, 0.04140735028099796,\n",
       "        0.7629384133228829, 0.14663229252907495],\n",
       "       [0.13764807489163833, 0.8765543957990495, 0.8545104611967961,\n",
       "        0.16357382038683732, 0.30644410284927825],\n",
       "       [0.3121265200157324, 0.7170586482118816, 0.1159126478881305,\n",
       "        0.8457868078257199, 0.9291575912115518],\n",
       "       [0.19464003143120234, 0.6948170239413678, 0.4150084707772794,\n",
       "        0.29805516869454896, 0.6198066839582445],\n",
       "       [0.3706549427939242, 0.4162505260945957, 0.6912664297975923,\n",
       "        0.6766034521500306, 0.38221685660539706],\n",
       "       [0.31549523258649415, 0.11461574517273354, 0.9046730547096801,\n",
       "        0.33410796529420195, 0.8683750892783094],\n",
       "       [0.5308572346778542, 0.4943546794534599, 0.45561053063252666,\n",
       "        0.6909053022182667, 0.6330828038443758],\n",
       "       [0.5599790871367435, 0.5155102690821666, 0.36256258063530344,\n",
       "        0.3709580055382077, 0.1650331040129921],\n",
       "       [0.9903303561364529, 0.6851353595609586, 0.0483709558722607,\n",
       "        0.4808393832529645, 0.9487141325404046],\n",
       "       [0.7709982615750367, 0.14616359320283512, 0.71640930264419,\n",
       "        0.7225732802649106, 0.24048012520271256],\n",
       "       [0.4165435020234318, 0.056081075110164136, 0.40467817081149027,\n",
       "        0.2823740806985834, 0.08606724938954902],\n",
       "       [0.34337195268570186, 0.4516178611633337, 0.32170612891792283,\n",
       "        0.4405695998101353, 0.810987671664333],\n",
       "       [0.44677183561431966, 0.32759361678032006, 0.37991518684254477,\n",
       "        0.9679608292075635, 0.7650686673925402],\n",
       "       [0.2915566068169505, 0.2820818214751416, 0.10767498906205886,\n",
       "        0.9016260249741206, 0.562363407980749],\n",
       "       [0.5358856051667665, 0.8821372448433719, 0.8160984434853128,\n",
       "        0.014096757031378582, 0.7867996992441063],\n",
       "       [0.3081953768045481, 0.9843285322231841, 0.3184361746004495,\n",
       "        0.39164957051753324, 0.5537557671373745],\n",
       "       [0.09410721374906028, 0.7359763421822297, 0.3046244073935711,\n",
       "        0.011245926215826763, 0.3275456095148088],\n",
       "       [0.9283141467636812, 0.06802663069660309, 0.37898796149479663,\n",
       "        0.004623053211061934, 0.7173316694670395],\n",
       "       [0.6948830850194153, 0.16397045845268488, 0.3046755436208325,\n",
       "        0.12503477999227797, 0.23164551065800643],\n",
       "       [0.9943563877917003, 0.05421708076224663, 0.1399576305189213,\n",
       "        0.013514004697381954, 0.4758775342873266],\n",
       "       [0.29083246158418585, 0.17274251627453374, 0.8580953704869587,\n",
       "        0.377853820929141, 0.04179602165736607],\n",
       "       [0.786765731162157, 0.6108324319459506, 0.368677733360694,\n",
       "        0.5407109454813355, 0.8266379307366145],\n",
       "       [0.050631087462425506, 0.5331878640605899, 0.4804695537192881,\n",
       "        0.2364580238136179, 0.902803577047572],\n",
       "       [0.4785460535102255, 0.18112276827127927, 0.4290453271531517,\n",
       "        0.6625725192451256, 0.9586922591557693],\n",
       "       [0.23018930888513423, 0.7576372678725832, 0.7281041129387588,\n",
       "        0.41431921141074046, 0.3831799431678272],\n",
       "       [0.887616949111664, 0.016704013658577654, 0.08114326515539594,\n",
       "        0.6495935800893237, 0.8895890179789552],\n",
       "       [0.706603039365261, 0.8633830023369937, 0.8957779457010313,\n",
       "        0.025787459499594934, 0.9245073819502219],\n",
       "       [0.35263311343928494, 0.01339980787826267, 0.6096017190492897,\n",
       "        0.6999376075355253, 0.871481821280358]], dtype=object)"
      ]
     },
     "execution_count": 128,
     "metadata": {},
     "output_type": "execute_result"
    }
   ],
   "source": [
    "dataf.to_numpy()                             # convert into numpy array"
   ]
  },
  {
   "cell_type": "markdown",
   "metadata": {},
   "source": [
    "Transpose of data"
   ]
  },
  {
   "cell_type": "code",
   "execution_count": 129,
   "metadata": {},
   "outputs": [
    {
     "data": {
      "text/html": [
       "<div>\n",
       "<style scoped>\n",
       "    .dataframe tbody tr th:only-of-type {\n",
       "        vertical-align: middle;\n",
       "    }\n",
       "\n",
       "    .dataframe tbody tr th {\n",
       "        vertical-align: top;\n",
       "    }\n",
       "\n",
       "    .dataframe thead th {\n",
       "        text-align: right;\n",
       "    }\n",
       "</style>\n",
       "<table border=\"1\" class=\"dataframe\">\n",
       "  <thead>\n",
       "    <tr style=\"text-align: right;\">\n",
       "      <th></th>\n",
       "      <th>0</th>\n",
       "      <th>1</th>\n",
       "      <th>2</th>\n",
       "      <th>3</th>\n",
       "      <th>4</th>\n",
       "      <th>5</th>\n",
       "      <th>6</th>\n",
       "      <th>7</th>\n",
       "      <th>8</th>\n",
       "      <th>9</th>\n",
       "      <th>...</th>\n",
       "      <th>90</th>\n",
       "      <th>91</th>\n",
       "      <th>92</th>\n",
       "      <th>93</th>\n",
       "      <th>94</th>\n",
       "      <th>95</th>\n",
       "      <th>96</th>\n",
       "      <th>97</th>\n",
       "      <th>98</th>\n",
       "      <th>99</th>\n",
       "    </tr>\n",
       "  </thead>\n",
       "  <tbody>\n",
       "    <tr>\n",
       "      <th>0</th>\n",
       "      <td>Name</td>\n",
       "      <td>0.829957</td>\n",
       "      <td>0.1526</td>\n",
       "      <td>0.663906</td>\n",
       "      <td>0.910742</td>\n",
       "      <td>0.693035</td>\n",
       "      <td>0.396895</td>\n",
       "      <td>0.310945</td>\n",
       "      <td>0.530215</td>\n",
       "      <td>0.890288</td>\n",
       "      <td>...</td>\n",
       "      <td>0.694883</td>\n",
       "      <td>0.994356</td>\n",
       "      <td>0.290832</td>\n",
       "      <td>0.786766</td>\n",
       "      <td>0.050631</td>\n",
       "      <td>0.478546</td>\n",
       "      <td>0.230189</td>\n",
       "      <td>0.887617</td>\n",
       "      <td>0.706603</td>\n",
       "      <td>0.352633</td>\n",
       "    </tr>\n",
       "    <tr>\n",
       "      <th>1</th>\n",
       "      <td>0.238906</td>\n",
       "      <td>0.082526</td>\n",
       "      <td>0.293425</td>\n",
       "      <td>0.169698</td>\n",
       "      <td>0.040766</td>\n",
       "      <td>0.075565</td>\n",
       "      <td>0.462273</td>\n",
       "      <td>0.002031</td>\n",
       "      <td>0.965066</td>\n",
       "      <td>0.334416</td>\n",
       "      <td>...</td>\n",
       "      <td>0.16397</td>\n",
       "      <td>0.054217</td>\n",
       "      <td>0.172743</td>\n",
       "      <td>0.610832</td>\n",
       "      <td>0.533188</td>\n",
       "      <td>0.181123</td>\n",
       "      <td>0.757637</td>\n",
       "      <td>0.016704</td>\n",
       "      <td>0.863383</td>\n",
       "      <td>0.0134</td>\n",
       "    </tr>\n",
       "    <tr>\n",
       "      <th>2</th>\n",
       "      <td>0.854013</td>\n",
       "      <td>0.898882</td>\n",
       "      <td>0.878322</td>\n",
       "      <td>0.856403</td>\n",
       "      <td>0.186427</td>\n",
       "      <td>0.184613</td>\n",
       "      <td>0.230369</td>\n",
       "      <td>0.55978</td>\n",
       "      <td>0.16515</td>\n",
       "      <td>0.029583</td>\n",
       "      <td>...</td>\n",
       "      <td>0.304676</td>\n",
       "      <td>0.139958</td>\n",
       "      <td>0.858095</td>\n",
       "      <td>0.368678</td>\n",
       "      <td>0.48047</td>\n",
       "      <td>0.429045</td>\n",
       "      <td>0.728104</td>\n",
       "      <td>0.081143</td>\n",
       "      <td>0.895778</td>\n",
       "      <td>0.609602</td>\n",
       "    </tr>\n",
       "    <tr>\n",
       "      <th>3</th>\n",
       "      <td>0.321454</td>\n",
       "      <td>0.702453</td>\n",
       "      <td>0.924719</td>\n",
       "      <td>0.789484</td>\n",
       "      <td>0.12877</td>\n",
       "      <td>0.375</td>\n",
       "      <td>0.79233</td>\n",
       "      <td>0.993323</td>\n",
       "      <td>0.471869</td>\n",
       "      <td>0.421466</td>\n",
       "      <td>...</td>\n",
       "      <td>0.125035</td>\n",
       "      <td>0.013514</td>\n",
       "      <td>0.377854</td>\n",
       "      <td>0.540711</td>\n",
       "      <td>0.236458</td>\n",
       "      <td>0.662573</td>\n",
       "      <td>0.414319</td>\n",
       "      <td>0.649594</td>\n",
       "      <td>0.025787</td>\n",
       "      <td>0.699938</td>\n",
       "    </tr>\n",
       "    <tr>\n",
       "      <th>4</th>\n",
       "      <td>0.924501</td>\n",
       "      <td>0.561925</td>\n",
       "      <td>0.852891</td>\n",
       "      <td>0.291239</td>\n",
       "      <td>0.538214</td>\n",
       "      <td>0.707402</td>\n",
       "      <td>0.190867</td>\n",
       "      <td>0.59277</td>\n",
       "      <td>0.332608</td>\n",
       "      <td>0.440855</td>\n",
       "      <td>...</td>\n",
       "      <td>0.231646</td>\n",
       "      <td>0.475878</td>\n",
       "      <td>0.041796</td>\n",
       "      <td>0.826638</td>\n",
       "      <td>0.902804</td>\n",
       "      <td>0.958692</td>\n",
       "      <td>0.38318</td>\n",
       "      <td>0.889589</td>\n",
       "      <td>0.924507</td>\n",
       "      <td>0.871482</td>\n",
       "    </tr>\n",
       "  </tbody>\n",
       "</table>\n",
       "<p>5 rows × 100 columns</p>\n",
       "</div>"
      ],
      "text/plain": [
       "         0         1         2         3         4         5         6   \\\n",
       "0      Name  0.829957    0.1526  0.663906  0.910742  0.693035  0.396895   \n",
       "1  0.238906  0.082526  0.293425  0.169698  0.040766  0.075565  0.462273   \n",
       "2  0.854013  0.898882  0.878322  0.856403  0.186427  0.184613  0.230369   \n",
       "3  0.321454  0.702453  0.924719  0.789484   0.12877     0.375   0.79233   \n",
       "4  0.924501  0.561925  0.852891  0.291239  0.538214  0.707402  0.190867   \n",
       "\n",
       "         7         8         9   ...        90        91        92        93  \\\n",
       "0  0.310945  0.530215  0.890288  ...  0.694883  0.994356  0.290832  0.786766   \n",
       "1  0.002031  0.965066  0.334416  ...   0.16397  0.054217  0.172743  0.610832   \n",
       "2   0.55978   0.16515  0.029583  ...  0.304676  0.139958  0.858095  0.368678   \n",
       "3  0.993323  0.471869  0.421466  ...  0.125035  0.013514  0.377854  0.540711   \n",
       "4   0.59277  0.332608  0.440855  ...  0.231646  0.475878  0.041796  0.826638   \n",
       "\n",
       "         94        95        96        97        98        99  \n",
       "0  0.050631  0.478546  0.230189  0.887617  0.706603  0.352633  \n",
       "1  0.533188  0.181123  0.757637  0.016704  0.863383    0.0134  \n",
       "2   0.48047  0.429045  0.728104  0.081143  0.895778  0.609602  \n",
       "3  0.236458  0.662573  0.414319  0.649594  0.025787  0.699938  \n",
       "4  0.902804  0.958692   0.38318  0.889589  0.924507  0.871482  \n",
       "\n",
       "[5 rows x 100 columns]"
      ]
     },
     "execution_count": 129,
     "metadata": {},
     "output_type": "execute_result"
    }
   ],
   "source": [
    "dataf.T                         # transpose"
   ]
  },
  {
   "cell_type": "markdown",
   "metadata": {},
   "source": [
    "Sorting data in descending order (rows)"
   ]
  },
  {
   "cell_type": "code",
   "execution_count": 130,
   "metadata": {},
   "outputs": [
    {
     "data": {
      "text/html": [
       "<div>\n",
       "<style scoped>\n",
       "    .dataframe tbody tr th:only-of-type {\n",
       "        vertical-align: middle;\n",
       "    }\n",
       "\n",
       "    .dataframe tbody tr th {\n",
       "        vertical-align: top;\n",
       "    }\n",
       "\n",
       "    .dataframe thead th {\n",
       "        text-align: right;\n",
       "    }\n",
       "</style>\n",
       "<table border=\"1\" class=\"dataframe\">\n",
       "  <thead>\n",
       "    <tr style=\"text-align: right;\">\n",
       "      <th></th>\n",
       "      <th>0</th>\n",
       "      <th>1</th>\n",
       "      <th>2</th>\n",
       "      <th>3</th>\n",
       "      <th>4</th>\n",
       "    </tr>\n",
       "  </thead>\n",
       "  <tbody>\n",
       "    <tr>\n",
       "      <th>99</th>\n",
       "      <td>0.352633</td>\n",
       "      <td>0.013400</td>\n",
       "      <td>0.609602</td>\n",
       "      <td>0.699938</td>\n",
       "      <td>0.871482</td>\n",
       "    </tr>\n",
       "    <tr>\n",
       "      <th>98</th>\n",
       "      <td>0.706603</td>\n",
       "      <td>0.863383</td>\n",
       "      <td>0.895778</td>\n",
       "      <td>0.025787</td>\n",
       "      <td>0.924507</td>\n",
       "    </tr>\n",
       "    <tr>\n",
       "      <th>97</th>\n",
       "      <td>0.887617</td>\n",
       "      <td>0.016704</td>\n",
       "      <td>0.081143</td>\n",
       "      <td>0.649594</td>\n",
       "      <td>0.889589</td>\n",
       "    </tr>\n",
       "    <tr>\n",
       "      <th>96</th>\n",
       "      <td>0.230189</td>\n",
       "      <td>0.757637</td>\n",
       "      <td>0.728104</td>\n",
       "      <td>0.414319</td>\n",
       "      <td>0.383180</td>\n",
       "    </tr>\n",
       "    <tr>\n",
       "      <th>95</th>\n",
       "      <td>0.478546</td>\n",
       "      <td>0.181123</td>\n",
       "      <td>0.429045</td>\n",
       "      <td>0.662573</td>\n",
       "      <td>0.958692</td>\n",
       "    </tr>\n",
       "    <tr>\n",
       "      <th>...</th>\n",
       "      <td>...</td>\n",
       "      <td>...</td>\n",
       "      <td>...</td>\n",
       "      <td>...</td>\n",
       "      <td>...</td>\n",
       "    </tr>\n",
       "    <tr>\n",
       "      <th>4</th>\n",
       "      <td>0.910742</td>\n",
       "      <td>0.040766</td>\n",
       "      <td>0.186427</td>\n",
       "      <td>0.128770</td>\n",
       "      <td>0.538214</td>\n",
       "    </tr>\n",
       "    <tr>\n",
       "      <th>3</th>\n",
       "      <td>0.663906</td>\n",
       "      <td>0.169698</td>\n",
       "      <td>0.856403</td>\n",
       "      <td>0.789484</td>\n",
       "      <td>0.291239</td>\n",
       "    </tr>\n",
       "    <tr>\n",
       "      <th>2</th>\n",
       "      <td>0.1526</td>\n",
       "      <td>0.293425</td>\n",
       "      <td>0.878322</td>\n",
       "      <td>0.924719</td>\n",
       "      <td>0.852891</td>\n",
       "    </tr>\n",
       "    <tr>\n",
       "      <th>1</th>\n",
       "      <td>0.829957</td>\n",
       "      <td>0.082526</td>\n",
       "      <td>0.898882</td>\n",
       "      <td>0.702453</td>\n",
       "      <td>0.561925</td>\n",
       "    </tr>\n",
       "    <tr>\n",
       "      <th>0</th>\n",
       "      <td>Name</td>\n",
       "      <td>0.238906</td>\n",
       "      <td>0.854013</td>\n",
       "      <td>0.321454</td>\n",
       "      <td>0.924501</td>\n",
       "    </tr>\n",
       "  </tbody>\n",
       "</table>\n",
       "<p>100 rows × 5 columns</p>\n",
       "</div>"
      ],
      "text/plain": [
       "           0         1         2         3         4\n",
       "99  0.352633  0.013400  0.609602  0.699938  0.871482\n",
       "98  0.706603  0.863383  0.895778  0.025787  0.924507\n",
       "97  0.887617  0.016704  0.081143  0.649594  0.889589\n",
       "96  0.230189  0.757637  0.728104  0.414319  0.383180\n",
       "95  0.478546  0.181123  0.429045  0.662573  0.958692\n",
       "..       ...       ...       ...       ...       ...\n",
       "4   0.910742  0.040766  0.186427  0.128770  0.538214\n",
       "3   0.663906  0.169698  0.856403  0.789484  0.291239\n",
       "2     0.1526  0.293425  0.878322  0.924719  0.852891\n",
       "1   0.829957  0.082526  0.898882  0.702453  0.561925\n",
       "0       Name  0.238906  0.854013  0.321454  0.924501\n",
       "\n",
       "[100 rows x 5 columns]"
      ]
     },
     "execution_count": 130,
     "metadata": {},
     "output_type": "execute_result"
    }
   ],
   "source": [
    "dataf.sort_index(axis=0, ascending=False)                       # ascending is true by default, make it false to sort in descending order"
   ]
  },
  {
   "cell_type": "markdown",
   "metadata": {},
   "source": [
    "Sorting data in descending order (columns)"
   ]
  },
  {
   "cell_type": "code",
   "execution_count": 131,
   "metadata": {},
   "outputs": [
    {
     "data": {
      "text/html": [
       "<div>\n",
       "<style scoped>\n",
       "    .dataframe tbody tr th:only-of-type {\n",
       "        vertical-align: middle;\n",
       "    }\n",
       "\n",
       "    .dataframe tbody tr th {\n",
       "        vertical-align: top;\n",
       "    }\n",
       "\n",
       "    .dataframe thead th {\n",
       "        text-align: right;\n",
       "    }\n",
       "</style>\n",
       "<table border=\"1\" class=\"dataframe\">\n",
       "  <thead>\n",
       "    <tr style=\"text-align: right;\">\n",
       "      <th></th>\n",
       "      <th>4</th>\n",
       "      <th>3</th>\n",
       "      <th>2</th>\n",
       "      <th>1</th>\n",
       "      <th>0</th>\n",
       "    </tr>\n",
       "  </thead>\n",
       "  <tbody>\n",
       "    <tr>\n",
       "      <th>0</th>\n",
       "      <td>0.924501</td>\n",
       "      <td>0.321454</td>\n",
       "      <td>0.854013</td>\n",
       "      <td>0.238906</td>\n",
       "      <td>Name</td>\n",
       "    </tr>\n",
       "    <tr>\n",
       "      <th>1</th>\n",
       "      <td>0.561925</td>\n",
       "      <td>0.702453</td>\n",
       "      <td>0.898882</td>\n",
       "      <td>0.082526</td>\n",
       "      <td>0.829957</td>\n",
       "    </tr>\n",
       "    <tr>\n",
       "      <th>2</th>\n",
       "      <td>0.852891</td>\n",
       "      <td>0.924719</td>\n",
       "      <td>0.878322</td>\n",
       "      <td>0.293425</td>\n",
       "      <td>0.1526</td>\n",
       "    </tr>\n",
       "    <tr>\n",
       "      <th>3</th>\n",
       "      <td>0.291239</td>\n",
       "      <td>0.789484</td>\n",
       "      <td>0.856403</td>\n",
       "      <td>0.169698</td>\n",
       "      <td>0.663906</td>\n",
       "    </tr>\n",
       "    <tr>\n",
       "      <th>4</th>\n",
       "      <td>0.538214</td>\n",
       "      <td>0.128770</td>\n",
       "      <td>0.186427</td>\n",
       "      <td>0.040766</td>\n",
       "      <td>0.910742</td>\n",
       "    </tr>\n",
       "    <tr>\n",
       "      <th>...</th>\n",
       "      <td>...</td>\n",
       "      <td>...</td>\n",
       "      <td>...</td>\n",
       "      <td>...</td>\n",
       "      <td>...</td>\n",
       "    </tr>\n",
       "    <tr>\n",
       "      <th>95</th>\n",
       "      <td>0.958692</td>\n",
       "      <td>0.662573</td>\n",
       "      <td>0.429045</td>\n",
       "      <td>0.181123</td>\n",
       "      <td>0.478546</td>\n",
       "    </tr>\n",
       "    <tr>\n",
       "      <th>96</th>\n",
       "      <td>0.383180</td>\n",
       "      <td>0.414319</td>\n",
       "      <td>0.728104</td>\n",
       "      <td>0.757637</td>\n",
       "      <td>0.230189</td>\n",
       "    </tr>\n",
       "    <tr>\n",
       "      <th>97</th>\n",
       "      <td>0.889589</td>\n",
       "      <td>0.649594</td>\n",
       "      <td>0.081143</td>\n",
       "      <td>0.016704</td>\n",
       "      <td>0.887617</td>\n",
       "    </tr>\n",
       "    <tr>\n",
       "      <th>98</th>\n",
       "      <td>0.924507</td>\n",
       "      <td>0.025787</td>\n",
       "      <td>0.895778</td>\n",
       "      <td>0.863383</td>\n",
       "      <td>0.706603</td>\n",
       "    </tr>\n",
       "    <tr>\n",
       "      <th>99</th>\n",
       "      <td>0.871482</td>\n",
       "      <td>0.699938</td>\n",
       "      <td>0.609602</td>\n",
       "      <td>0.013400</td>\n",
       "      <td>0.352633</td>\n",
       "    </tr>\n",
       "  </tbody>\n",
       "</table>\n",
       "<p>100 rows × 5 columns</p>\n",
       "</div>"
      ],
      "text/plain": [
       "           4         3         2         1         0\n",
       "0   0.924501  0.321454  0.854013  0.238906      Name\n",
       "1   0.561925  0.702453  0.898882  0.082526  0.829957\n",
       "2   0.852891  0.924719  0.878322  0.293425    0.1526\n",
       "3   0.291239  0.789484  0.856403  0.169698  0.663906\n",
       "4   0.538214  0.128770  0.186427  0.040766  0.910742\n",
       "..       ...       ...       ...       ...       ...\n",
       "95  0.958692  0.662573  0.429045  0.181123  0.478546\n",
       "96  0.383180  0.414319  0.728104  0.757637  0.230189\n",
       "97  0.889589  0.649594  0.081143  0.016704  0.887617\n",
       "98  0.924507  0.025787  0.895778  0.863383  0.706603\n",
       "99  0.871482  0.699938  0.609602  0.013400  0.352633\n",
       "\n",
       "[100 rows x 5 columns]"
      ]
     },
     "execution_count": 131,
     "metadata": {},
     "output_type": "execute_result"
    }
   ],
   "source": [
    "dataf.sort_index(axis=1, ascending=False)  "
   ]
  },
  {
   "cell_type": "code",
   "execution_count": 132,
   "metadata": {},
   "outputs": [
    {
     "data": {
      "text/plain": [
       "pandas.core.series.Series"
      ]
     },
     "execution_count": 132,
     "metadata": {},
     "output_type": "execute_result"
    }
   ],
   "source": [
    "type(dataf[1])"
   ]
  },
  {
   "cell_type": "markdown",
   "metadata": {},
   "source": [
    "   "
   ]
  },
  {
   "cell_type": "code",
   "execution_count": 133,
   "metadata": {},
   "outputs": [],
   "source": [
    "dataf2 = dataf                # dataf2 is a view of dataf , that is it is at the same location it just points to dataf               "
   ]
  },
  {
   "cell_type": "code",
   "execution_count": 134,
   "metadata": {},
   "outputs": [],
   "source": [
    "dataf2[0][0] = 866"
   ]
  },
  {
   "cell_type": "code",
   "execution_count": 135,
   "metadata": {},
   "outputs": [
    {
     "data": {
      "text/html": [
       "<div>\n",
       "<style scoped>\n",
       "    .dataframe tbody tr th:only-of-type {\n",
       "        vertical-align: middle;\n",
       "    }\n",
       "\n",
       "    .dataframe tbody tr th {\n",
       "        vertical-align: top;\n",
       "    }\n",
       "\n",
       "    .dataframe thead th {\n",
       "        text-align: right;\n",
       "    }\n",
       "</style>\n",
       "<table border=\"1\" class=\"dataframe\">\n",
       "  <thead>\n",
       "    <tr style=\"text-align: right;\">\n",
       "      <th></th>\n",
       "      <th>0</th>\n",
       "      <th>1</th>\n",
       "      <th>2</th>\n",
       "      <th>3</th>\n",
       "      <th>4</th>\n",
       "    </tr>\n",
       "  </thead>\n",
       "  <tbody>\n",
       "    <tr>\n",
       "      <th>0</th>\n",
       "      <td>866</td>\n",
       "      <td>0.238906</td>\n",
       "      <td>0.854013</td>\n",
       "      <td>0.321454</td>\n",
       "      <td>0.924501</td>\n",
       "    </tr>\n",
       "    <tr>\n",
       "      <th>1</th>\n",
       "      <td>0.829957</td>\n",
       "      <td>0.082526</td>\n",
       "      <td>0.898882</td>\n",
       "      <td>0.702453</td>\n",
       "      <td>0.561925</td>\n",
       "    </tr>\n",
       "  </tbody>\n",
       "</table>\n",
       "</div>"
      ],
      "text/plain": [
       "          0         1         2         3         4\n",
       "0       866  0.238906  0.854013  0.321454  0.924501\n",
       "1  0.829957  0.082526  0.898882  0.702453  0.561925"
      ]
     },
     "execution_count": 135,
     "metadata": {},
     "output_type": "execute_result"
    }
   ],
   "source": [
    "dataf.head(2)                    # changes made to dataf2 get reflected in  dataf"
   ]
  },
  {
   "cell_type": "markdown",
   "metadata": {},
   "source": [
    "Creating copy of data"
   ]
  },
  {
   "cell_type": "code",
   "execution_count": 136,
   "metadata": {},
   "outputs": [],
   "source": [
    "dataf3 = dataf.copy()                   # dataf3 is a copy of dataf"
   ]
  },
  {
   "cell_type": "markdown",
   "metadata": {},
   "source": [
    "It is hard to track the changed values from view and copy and also confusing for the system to print which value and when therefore \"loc\" is used."
   ]
  },
  {
   "cell_type": "code",
   "execution_count": 137,
   "metadata": {},
   "outputs": [],
   "source": [
    "dataf.loc[0,0] = 6"
   ]
  },
  {
   "cell_type": "code",
   "execution_count": 138,
   "metadata": {},
   "outputs": [
    {
     "data": {
      "text/html": [
       "<div>\n",
       "<style scoped>\n",
       "    .dataframe tbody tr th:only-of-type {\n",
       "        vertical-align: middle;\n",
       "    }\n",
       "\n",
       "    .dataframe tbody tr th {\n",
       "        vertical-align: top;\n",
       "    }\n",
       "\n",
       "    .dataframe thead th {\n",
       "        text-align: right;\n",
       "    }\n",
       "</style>\n",
       "<table border=\"1\" class=\"dataframe\">\n",
       "  <thead>\n",
       "    <tr style=\"text-align: right;\">\n",
       "      <th></th>\n",
       "      <th>0</th>\n",
       "      <th>1</th>\n",
       "      <th>2</th>\n",
       "      <th>3</th>\n",
       "      <th>4</th>\n",
       "    </tr>\n",
       "  </thead>\n",
       "  <tbody>\n",
       "    <tr>\n",
       "      <th>0</th>\n",
       "      <td>6</td>\n",
       "      <td>0.238906</td>\n",
       "      <td>0.854013</td>\n",
       "      <td>0.321454</td>\n",
       "      <td>0.924501</td>\n",
       "    </tr>\n",
       "    <tr>\n",
       "      <th>1</th>\n",
       "      <td>0.829957</td>\n",
       "      <td>0.082526</td>\n",
       "      <td>0.898882</td>\n",
       "      <td>0.702453</td>\n",
       "      <td>0.561925</td>\n",
       "    </tr>\n",
       "  </tbody>\n",
       "</table>\n",
       "</div>"
      ],
      "text/plain": [
       "          0         1         2         3         4\n",
       "0         6  0.238906  0.854013  0.321454  0.924501\n",
       "1  0.829957  0.082526  0.898882  0.702453  0.561925"
      ]
     },
     "execution_count": 138,
     "metadata": {},
     "output_type": "execute_result"
    }
   ],
   "source": [
    "dataf.head(2)"
   ]
  },
  {
   "cell_type": "code",
   "execution_count": 139,
   "metadata": {},
   "outputs": [
    {
     "data": {
      "text/html": [
       "<div>\n",
       "<style scoped>\n",
       "    .dataframe tbody tr th:only-of-type {\n",
       "        vertical-align: middle;\n",
       "    }\n",
       "\n",
       "    .dataframe tbody tr th {\n",
       "        vertical-align: top;\n",
       "    }\n",
       "\n",
       "    .dataframe thead th {\n",
       "        text-align: right;\n",
       "    }\n",
       "</style>\n",
       "<table border=\"1\" class=\"dataframe\">\n",
       "  <thead>\n",
       "    <tr style=\"text-align: right;\">\n",
       "      <th></th>\n",
       "      <th>A</th>\n",
       "      <th>B</th>\n",
       "      <th>C</th>\n",
       "      <th>D</th>\n",
       "      <th>E</th>\n",
       "    </tr>\n",
       "  </thead>\n",
       "  <tbody>\n",
       "    <tr>\n",
       "      <th>0</th>\n",
       "      <td>6</td>\n",
       "      <td>0.238906</td>\n",
       "      <td>0.854013</td>\n",
       "      <td>0.321454</td>\n",
       "      <td>0.924501</td>\n",
       "    </tr>\n",
       "    <tr>\n",
       "      <th>1</th>\n",
       "      <td>0.829957</td>\n",
       "      <td>0.082526</td>\n",
       "      <td>0.898882</td>\n",
       "      <td>0.702453</td>\n",
       "      <td>0.561925</td>\n",
       "    </tr>\n",
       "    <tr>\n",
       "      <th>2</th>\n",
       "      <td>0.1526</td>\n",
       "      <td>0.293425</td>\n",
       "      <td>0.878322</td>\n",
       "      <td>0.924719</td>\n",
       "      <td>0.852891</td>\n",
       "    </tr>\n",
       "  </tbody>\n",
       "</table>\n",
       "</div>"
      ],
      "text/plain": [
       "          A         B         C         D         E\n",
       "0         6  0.238906  0.854013  0.321454  0.924501\n",
       "1  0.829957  0.082526  0.898882  0.702453  0.561925\n",
       "2    0.1526  0.293425  0.878322  0.924719  0.852891"
      ]
     },
     "execution_count": 139,
     "metadata": {},
     "output_type": "execute_result"
    }
   ],
   "source": [
    "dataf.columns = list('ABCDE')\n",
    "dataf.head(3)"
   ]
  },
  {
   "cell_type": "code",
   "execution_count": 140,
   "metadata": {},
   "outputs": [
    {
     "data": {
      "text/html": [
       "<div>\n",
       "<style scoped>\n",
       "    .dataframe tbody tr th:only-of-type {\n",
       "        vertical-align: middle;\n",
       "    }\n",
       "\n",
       "    .dataframe tbody tr th {\n",
       "        vertical-align: top;\n",
       "    }\n",
       "\n",
       "    .dataframe thead th {\n",
       "        text-align: right;\n",
       "    }\n",
       "</style>\n",
       "<table border=\"1\" class=\"dataframe\">\n",
       "  <thead>\n",
       "    <tr style=\"text-align: right;\">\n",
       "      <th></th>\n",
       "      <th>A</th>\n",
       "      <th>B</th>\n",
       "      <th>C</th>\n",
       "      <th>D</th>\n",
       "      <th>E</th>\n",
       "    </tr>\n",
       "  </thead>\n",
       "  <tbody>\n",
       "    <tr>\n",
       "      <th>0</th>\n",
       "      <td>6</td>\n",
       "      <td>0.238906</td>\n",
       "      <td>0.854013</td>\n",
       "      <td>0.321454</td>\n",
       "      <td>0.924501</td>\n",
       "    </tr>\n",
       "    <tr>\n",
       "      <th>1</th>\n",
       "      <td>0.829957</td>\n",
       "      <td>0.082526</td>\n",
       "      <td>0.898882</td>\n",
       "      <td>0.702453</td>\n",
       "      <td>0.561925</td>\n",
       "    </tr>\n",
       "    <tr>\n",
       "      <th>2</th>\n",
       "      <td>0.1526</td>\n",
       "      <td>0.293425</td>\n",
       "      <td>4.000000</td>\n",
       "      <td>0.924719</td>\n",
       "      <td>0.852891</td>\n",
       "    </tr>\n",
       "  </tbody>\n",
       "</table>\n",
       "</div>"
      ],
      "text/plain": [
       "          A         B         C         D         E\n",
       "0         6  0.238906  0.854013  0.321454  0.924501\n",
       "1  0.829957  0.082526  0.898882  0.702453  0.561925\n",
       "2    0.1526  0.293425  4.000000  0.924719  0.852891"
      ]
     },
     "execution_count": 140,
     "metadata": {},
     "output_type": "execute_result"
    }
   ],
   "source": [
    "# since the column values are now changed\n",
    "dataf.loc[2, 'C'] = 4                                   \n",
    "dataf.head(3)"
   ]
  },
  {
   "cell_type": "code",
   "execution_count": 141,
   "metadata": {},
   "outputs": [
    {
     "data": {
      "text/html": [
       "<div>\n",
       "<style scoped>\n",
       "    .dataframe tbody tr th:only-of-type {\n",
       "        vertical-align: middle;\n",
       "    }\n",
       "\n",
       "    .dataframe tbody tr th {\n",
       "        vertical-align: top;\n",
       "    }\n",
       "\n",
       "    .dataframe thead th {\n",
       "        text-align: right;\n",
       "    }\n",
       "</style>\n",
       "<table border=\"1\" class=\"dataframe\">\n",
       "  <thead>\n",
       "    <tr style=\"text-align: right;\">\n",
       "      <th></th>\n",
       "      <th>A</th>\n",
       "      <th>B</th>\n",
       "      <th>C</th>\n",
       "      <th>D</th>\n",
       "      <th>E</th>\n",
       "      <th>2</th>\n",
       "    </tr>\n",
       "  </thead>\n",
       "  <tbody>\n",
       "    <tr>\n",
       "      <th>0</th>\n",
       "      <td>6</td>\n",
       "      <td>0.238906</td>\n",
       "      <td>0.854013</td>\n",
       "      <td>0.321454</td>\n",
       "      <td>0.924501</td>\n",
       "      <td>NaN</td>\n",
       "    </tr>\n",
       "    <tr>\n",
       "      <th>1</th>\n",
       "      <td>0.829957</td>\n",
       "      <td>0.082526</td>\n",
       "      <td>0.898882</td>\n",
       "      <td>0.702453</td>\n",
       "      <td>0.561925</td>\n",
       "      <td>NaN</td>\n",
       "    </tr>\n",
       "    <tr>\n",
       "      <th>2</th>\n",
       "      <td>0.1526</td>\n",
       "      <td>0.293425</td>\n",
       "      <td>4.000000</td>\n",
       "      <td>0.924719</td>\n",
       "      <td>0.852891</td>\n",
       "      <td>4.0</td>\n",
       "    </tr>\n",
       "  </tbody>\n",
       "</table>\n",
       "</div>"
      ],
      "text/plain": [
       "          A         B         C         D         E    2\n",
       "0         6  0.238906  0.854013  0.321454  0.924501  NaN\n",
       "1  0.829957  0.082526  0.898882  0.702453  0.561925  NaN\n",
       "2    0.1526  0.293425  4.000000  0.924719  0.852891  4.0"
      ]
     },
     "execution_count": 141,
     "metadata": {},
     "output_type": "execute_result"
    }
   ],
   "source": [
    "# if used [2, 2], it will create a new column 2 and then aplly changes; the rest of the values will be none\n",
    "\n",
    "dataf.loc[2,2] = 4\n",
    "dataf.head(3)"
   ]
  },
  {
   "cell_type": "code",
   "execution_count": 142,
   "metadata": {},
   "outputs": [
    {
     "data": {
      "text/html": [
       "<div>\n",
       "<style scoped>\n",
       "    .dataframe tbody tr th:only-of-type {\n",
       "        vertical-align: middle;\n",
       "    }\n",
       "\n",
       "    .dataframe tbody tr th {\n",
       "        vertical-align: top;\n",
       "    }\n",
       "\n",
       "    .dataframe thead th {\n",
       "        text-align: right;\n",
       "    }\n",
       "</style>\n",
       "<table border=\"1\" class=\"dataframe\">\n",
       "  <thead>\n",
       "    <tr style=\"text-align: right;\">\n",
       "      <th></th>\n",
       "      <th>A</th>\n",
       "      <th>B</th>\n",
       "      <th>C</th>\n",
       "      <th>D</th>\n",
       "      <th>E</th>\n",
       "    </tr>\n",
       "  </thead>\n",
       "  <tbody>\n",
       "    <tr>\n",
       "      <th>0</th>\n",
       "      <td>6</td>\n",
       "      <td>0.238906</td>\n",
       "      <td>0.854013</td>\n",
       "      <td>0.321454</td>\n",
       "      <td>0.924501</td>\n",
       "    </tr>\n",
       "    <tr>\n",
       "      <th>1</th>\n",
       "      <td>0.829957</td>\n",
       "      <td>0.082526</td>\n",
       "      <td>0.898882</td>\n",
       "      <td>0.702453</td>\n",
       "      <td>0.561925</td>\n",
       "    </tr>\n",
       "    <tr>\n",
       "      <th>2</th>\n",
       "      <td>0.1526</td>\n",
       "      <td>0.293425</td>\n",
       "      <td>4.000000</td>\n",
       "      <td>0.924719</td>\n",
       "      <td>0.852891</td>\n",
       "    </tr>\n",
       "    <tr>\n",
       "      <th>3</th>\n",
       "      <td>0.663906</td>\n",
       "      <td>0.169698</td>\n",
       "      <td>0.856403</td>\n",
       "      <td>0.789484</td>\n",
       "      <td>0.291239</td>\n",
       "    </tr>\n",
       "    <tr>\n",
       "      <th>4</th>\n",
       "      <td>0.910742</td>\n",
       "      <td>0.040766</td>\n",
       "      <td>0.186427</td>\n",
       "      <td>0.128770</td>\n",
       "      <td>0.538214</td>\n",
       "    </tr>\n",
       "    <tr>\n",
       "      <th>...</th>\n",
       "      <td>...</td>\n",
       "      <td>...</td>\n",
       "      <td>...</td>\n",
       "      <td>...</td>\n",
       "      <td>...</td>\n",
       "    </tr>\n",
       "    <tr>\n",
       "      <th>95</th>\n",
       "      <td>0.478546</td>\n",
       "      <td>0.181123</td>\n",
       "      <td>0.429045</td>\n",
       "      <td>0.662573</td>\n",
       "      <td>0.958692</td>\n",
       "    </tr>\n",
       "    <tr>\n",
       "      <th>96</th>\n",
       "      <td>0.230189</td>\n",
       "      <td>0.757637</td>\n",
       "      <td>0.728104</td>\n",
       "      <td>0.414319</td>\n",
       "      <td>0.383180</td>\n",
       "    </tr>\n",
       "    <tr>\n",
       "      <th>97</th>\n",
       "      <td>0.887617</td>\n",
       "      <td>0.016704</td>\n",
       "      <td>0.081143</td>\n",
       "      <td>0.649594</td>\n",
       "      <td>0.889589</td>\n",
       "    </tr>\n",
       "    <tr>\n",
       "      <th>98</th>\n",
       "      <td>0.706603</td>\n",
       "      <td>0.863383</td>\n",
       "      <td>0.895778</td>\n",
       "      <td>0.025787</td>\n",
       "      <td>0.924507</td>\n",
       "    </tr>\n",
       "    <tr>\n",
       "      <th>99</th>\n",
       "      <td>0.352633</td>\n",
       "      <td>0.013400</td>\n",
       "      <td>0.609602</td>\n",
       "      <td>0.699938</td>\n",
       "      <td>0.871482</td>\n",
       "    </tr>\n",
       "  </tbody>\n",
       "</table>\n",
       "<p>100 rows × 5 columns</p>\n",
       "</div>"
      ],
      "text/plain": [
       "           A         B         C         D         E\n",
       "0          6  0.238906  0.854013  0.321454  0.924501\n",
       "1   0.829957  0.082526  0.898882  0.702453  0.561925\n",
       "2     0.1526  0.293425  4.000000  0.924719  0.852891\n",
       "3   0.663906  0.169698  0.856403  0.789484  0.291239\n",
       "4   0.910742  0.040766  0.186427  0.128770  0.538214\n",
       "..       ...       ...       ...       ...       ...\n",
       "95  0.478546  0.181123  0.429045  0.662573  0.958692\n",
       "96  0.230189  0.757637  0.728104  0.414319  0.383180\n",
       "97  0.887617  0.016704  0.081143  0.649594  0.889589\n",
       "98  0.706603  0.863383  0.895778  0.025787  0.924507\n",
       "99  0.352633  0.013400  0.609602  0.699938  0.871482\n",
       "\n",
       "[100 rows x 5 columns]"
      ]
     },
     "execution_count": 142,
     "metadata": {},
     "output_type": "execute_result"
    }
   ],
   "source": [
    "dataf.drop(2, axis=1)                                   # delete column 2;  specifying axis is necessar, it uses axis0 by default"
   ]
  },
  {
   "cell_type": "code",
   "execution_count": 143,
   "metadata": {},
   "outputs": [
    {
     "data": {
      "text/html": [
       "<div>\n",
       "<style scoped>\n",
       "    .dataframe tbody tr th:only-of-type {\n",
       "        vertical-align: middle;\n",
       "    }\n",
       "\n",
       "    .dataframe tbody tr th {\n",
       "        vertical-align: top;\n",
       "    }\n",
       "\n",
       "    .dataframe thead th {\n",
       "        text-align: right;\n",
       "    }\n",
       "</style>\n",
       "<table border=\"1\" class=\"dataframe\">\n",
       "  <thead>\n",
       "    <tr style=\"text-align: right;\">\n",
       "      <th></th>\n",
       "      <th>C</th>\n",
       "      <th>D</th>\n",
       "    </tr>\n",
       "  </thead>\n",
       "  <tbody>\n",
       "    <tr>\n",
       "      <th>1</th>\n",
       "      <td>0.898882</td>\n",
       "      <td>0.702453</td>\n",
       "    </tr>\n",
       "    <tr>\n",
       "      <th>2</th>\n",
       "      <td>4.000000</td>\n",
       "      <td>0.924719</td>\n",
       "    </tr>\n",
       "  </tbody>\n",
       "</table>\n",
       "</div>"
      ],
      "text/plain": [
       "          C         D\n",
       "1  0.898882  0.702453\n",
       "2  4.000000  0.924719"
      ]
     },
     "execution_count": 143,
     "metadata": {},
     "output_type": "execute_result"
    }
   ],
   "source": [
    "dataf.loc[[1,2], ['C', 'D']]                          # returns a copy"
   ]
  },
  {
   "cell_type": "code",
   "execution_count": 144,
   "metadata": {},
   "outputs": [
    {
     "data": {
      "text/html": [
       "<div>\n",
       "<style scoped>\n",
       "    .dataframe tbody tr th:only-of-type {\n",
       "        vertical-align: middle;\n",
       "    }\n",
       "\n",
       "    .dataframe tbody tr th {\n",
       "        vertical-align: top;\n",
       "    }\n",
       "\n",
       "    .dataframe thead th {\n",
       "        text-align: right;\n",
       "    }\n",
       "</style>\n",
       "<table border=\"1\" class=\"dataframe\">\n",
       "  <thead>\n",
       "    <tr style=\"text-align: right;\">\n",
       "      <th></th>\n",
       "      <th>C</th>\n",
       "      <th>D</th>\n",
       "    </tr>\n",
       "  </thead>\n",
       "  <tbody>\n",
       "    <tr>\n",
       "      <th>0</th>\n",
       "      <td>0.854013</td>\n",
       "      <td>0.321454</td>\n",
       "    </tr>\n",
       "    <tr>\n",
       "      <th>1</th>\n",
       "      <td>0.898882</td>\n",
       "      <td>0.702453</td>\n",
       "    </tr>\n",
       "    <tr>\n",
       "      <th>2</th>\n",
       "      <td>4.000000</td>\n",
       "      <td>0.924719</td>\n",
       "    </tr>\n",
       "    <tr>\n",
       "      <th>3</th>\n",
       "      <td>0.856403</td>\n",
       "      <td>0.789484</td>\n",
       "    </tr>\n",
       "    <tr>\n",
       "      <th>4</th>\n",
       "      <td>0.186427</td>\n",
       "      <td>0.128770</td>\n",
       "    </tr>\n",
       "    <tr>\n",
       "      <th>...</th>\n",
       "      <td>...</td>\n",
       "      <td>...</td>\n",
       "    </tr>\n",
       "    <tr>\n",
       "      <th>95</th>\n",
       "      <td>0.429045</td>\n",
       "      <td>0.662573</td>\n",
       "    </tr>\n",
       "    <tr>\n",
       "      <th>96</th>\n",
       "      <td>0.728104</td>\n",
       "      <td>0.414319</td>\n",
       "    </tr>\n",
       "    <tr>\n",
       "      <th>97</th>\n",
       "      <td>0.081143</td>\n",
       "      <td>0.649594</td>\n",
       "    </tr>\n",
       "    <tr>\n",
       "      <th>98</th>\n",
       "      <td>0.895778</td>\n",
       "      <td>0.025787</td>\n",
       "    </tr>\n",
       "    <tr>\n",
       "      <th>99</th>\n",
       "      <td>0.609602</td>\n",
       "      <td>0.699938</td>\n",
       "    </tr>\n",
       "  </tbody>\n",
       "</table>\n",
       "<p>100 rows × 2 columns</p>\n",
       "</div>"
      ],
      "text/plain": [
       "           C         D\n",
       "0   0.854013  0.321454\n",
       "1   0.898882  0.702453\n",
       "2   4.000000  0.924719\n",
       "3   0.856403  0.789484\n",
       "4   0.186427  0.128770\n",
       "..       ...       ...\n",
       "95  0.429045  0.662573\n",
       "96  0.728104  0.414319\n",
       "97  0.081143  0.649594\n",
       "98  0.895778  0.025787\n",
       "99  0.609602  0.699938\n",
       "\n",
       "[100 rows x 2 columns]"
      ]
     },
     "execution_count": 144,
     "metadata": {},
     "output_type": "execute_result"
    }
   ],
   "source": [
    "dataf.loc[:, ['C','D']]"
   ]
  },
  {
   "cell_type": "code",
   "execution_count": 145,
   "metadata": {},
   "outputs": [
    {
     "data": {
      "text/html": [
       "<div>\n",
       "<style scoped>\n",
       "    .dataframe tbody tr th:only-of-type {\n",
       "        vertical-align: middle;\n",
       "    }\n",
       "\n",
       "    .dataframe tbody tr th {\n",
       "        vertical-align: top;\n",
       "    }\n",
       "\n",
       "    .dataframe thead th {\n",
       "        text-align: right;\n",
       "    }\n",
       "</style>\n",
       "<table border=\"1\" class=\"dataframe\">\n",
       "  <thead>\n",
       "    <tr style=\"text-align: right;\">\n",
       "      <th></th>\n",
       "      <th>A</th>\n",
       "      <th>B</th>\n",
       "      <th>C</th>\n",
       "      <th>D</th>\n",
       "      <th>E</th>\n",
       "      <th>2</th>\n",
       "    </tr>\n",
       "  </thead>\n",
       "  <tbody>\n",
       "    <tr>\n",
       "      <th>1</th>\n",
       "      <td>0.829957</td>\n",
       "      <td>0.082526</td>\n",
       "      <td>0.898882</td>\n",
       "      <td>0.702453</td>\n",
       "      <td>0.561925</td>\n",
       "      <td>NaN</td>\n",
       "    </tr>\n",
       "    <tr>\n",
       "      <th>2</th>\n",
       "      <td>0.1526</td>\n",
       "      <td>0.293425</td>\n",
       "      <td>4.000000</td>\n",
       "      <td>0.924719</td>\n",
       "      <td>0.852891</td>\n",
       "      <td>4.0</td>\n",
       "    </tr>\n",
       "  </tbody>\n",
       "</table>\n",
       "</div>"
      ],
      "text/plain": [
       "          A         B         C         D         E    2\n",
       "1  0.829957  0.082526  0.898882  0.702453  0.561925  NaN\n",
       "2    0.1526  0.293425  4.000000  0.924719  0.852891  4.0"
      ]
     },
     "execution_count": 145,
     "metadata": {},
     "output_type": "execute_result"
    }
   ],
   "source": [
    "dataf.loc[[1,2], :]"
   ]
  },
  {
   "cell_type": "code",
   "execution_count": 146,
   "metadata": {},
   "outputs": [
    {
     "data": {
      "text/html": [
       "<div>\n",
       "<style scoped>\n",
       "    .dataframe tbody tr th:only-of-type {\n",
       "        vertical-align: middle;\n",
       "    }\n",
       "\n",
       "    .dataframe tbody tr th {\n",
       "        vertical-align: top;\n",
       "    }\n",
       "\n",
       "    .dataframe thead th {\n",
       "        text-align: right;\n",
       "    }\n",
       "</style>\n",
       "<table border=\"1\" class=\"dataframe\">\n",
       "  <thead>\n",
       "    <tr style=\"text-align: right;\">\n",
       "      <th></th>\n",
       "      <th>A</th>\n",
       "      <th>B</th>\n",
       "      <th>C</th>\n",
       "      <th>D</th>\n",
       "      <th>E</th>\n",
       "      <th>2</th>\n",
       "    </tr>\n",
       "  </thead>\n",
       "  <tbody>\n",
       "    <tr>\n",
       "      <th>0</th>\n",
       "      <td>6</td>\n",
       "      <td>0.238906</td>\n",
       "      <td>0.854013</td>\n",
       "      <td>0.321454</td>\n",
       "      <td>0.924501</td>\n",
       "      <td>NaN</td>\n",
       "    </tr>\n",
       "    <tr>\n",
       "      <th>1</th>\n",
       "      <td>0.829957</td>\n",
       "      <td>0.082526</td>\n",
       "      <td>0.898882</td>\n",
       "      <td>0.702453</td>\n",
       "      <td>0.561925</td>\n",
       "      <td>NaN</td>\n",
       "    </tr>\n",
       "    <tr>\n",
       "      <th>3</th>\n",
       "      <td>0.663906</td>\n",
       "      <td>0.169698</td>\n",
       "      <td>0.856403</td>\n",
       "      <td>0.789484</td>\n",
       "      <td>0.291239</td>\n",
       "      <td>NaN</td>\n",
       "    </tr>\n",
       "    <tr>\n",
       "      <th>4</th>\n",
       "      <td>0.910742</td>\n",
       "      <td>0.040766</td>\n",
       "      <td>0.186427</td>\n",
       "      <td>0.128770</td>\n",
       "      <td>0.538214</td>\n",
       "      <td>NaN</td>\n",
       "    </tr>\n",
       "    <tr>\n",
       "      <th>5</th>\n",
       "      <td>0.693035</td>\n",
       "      <td>0.075565</td>\n",
       "      <td>0.184613</td>\n",
       "      <td>0.375000</td>\n",
       "      <td>0.707402</td>\n",
       "      <td>NaN</td>\n",
       "    </tr>\n",
       "    <tr>\n",
       "      <th>...</th>\n",
       "      <td>...</td>\n",
       "      <td>...</td>\n",
       "      <td>...</td>\n",
       "      <td>...</td>\n",
       "      <td>...</td>\n",
       "      <td>...</td>\n",
       "    </tr>\n",
       "    <tr>\n",
       "      <th>93</th>\n",
       "      <td>0.786766</td>\n",
       "      <td>0.610832</td>\n",
       "      <td>0.368678</td>\n",
       "      <td>0.540711</td>\n",
       "      <td>0.826638</td>\n",
       "      <td>NaN</td>\n",
       "    </tr>\n",
       "    <tr>\n",
       "      <th>95</th>\n",
       "      <td>0.478546</td>\n",
       "      <td>0.181123</td>\n",
       "      <td>0.429045</td>\n",
       "      <td>0.662573</td>\n",
       "      <td>0.958692</td>\n",
       "      <td>NaN</td>\n",
       "    </tr>\n",
       "    <tr>\n",
       "      <th>97</th>\n",
       "      <td>0.887617</td>\n",
       "      <td>0.016704</td>\n",
       "      <td>0.081143</td>\n",
       "      <td>0.649594</td>\n",
       "      <td>0.889589</td>\n",
       "      <td>NaN</td>\n",
       "    </tr>\n",
       "    <tr>\n",
       "      <th>98</th>\n",
       "      <td>0.706603</td>\n",
       "      <td>0.863383</td>\n",
       "      <td>0.895778</td>\n",
       "      <td>0.025787</td>\n",
       "      <td>0.924507</td>\n",
       "      <td>NaN</td>\n",
       "    </tr>\n",
       "    <tr>\n",
       "      <th>99</th>\n",
       "      <td>0.352633</td>\n",
       "      <td>0.013400</td>\n",
       "      <td>0.609602</td>\n",
       "      <td>0.699938</td>\n",
       "      <td>0.871482</td>\n",
       "      <td>NaN</td>\n",
       "    </tr>\n",
       "  </tbody>\n",
       "</table>\n",
       "<p>78 rows × 6 columns</p>\n",
       "</div>"
      ],
      "text/plain": [
       "           A         B         C         D         E   2\n",
       "0          6  0.238906  0.854013  0.321454  0.924501 NaN\n",
       "1   0.829957  0.082526  0.898882  0.702453  0.561925 NaN\n",
       "3   0.663906  0.169698  0.856403  0.789484  0.291239 NaN\n",
       "4   0.910742  0.040766  0.186427  0.128770  0.538214 NaN\n",
       "5   0.693035  0.075565  0.184613  0.375000  0.707402 NaN\n",
       "..       ...       ...       ...       ...       ...  ..\n",
       "93  0.786766  0.610832  0.368678  0.540711  0.826638 NaN\n",
       "95  0.478546  0.181123  0.429045  0.662573  0.958692 NaN\n",
       "97  0.887617  0.016704  0.081143  0.649594  0.889589 NaN\n",
       "98  0.706603  0.863383  0.895778  0.025787  0.924507 NaN\n",
       "99  0.352633  0.013400  0.609602  0.699938  0.871482 NaN\n",
       "\n",
       "[78 rows x 6 columns]"
      ]
     },
     "execution_count": 146,
     "metadata": {},
     "output_type": "execute_result"
    }
   ],
   "source": [
    "dataf.loc[(dataf['A']>0.3)]         # running complex queries"
   ]
  },
  {
   "cell_type": "code",
   "execution_count": 147,
   "metadata": {},
   "outputs": [
    {
     "data": {
      "text/html": [
       "<div>\n",
       "<style scoped>\n",
       "    .dataframe tbody tr th:only-of-type {\n",
       "        vertical-align: middle;\n",
       "    }\n",
       "\n",
       "    .dataframe tbody tr th {\n",
       "        vertical-align: top;\n",
       "    }\n",
       "\n",
       "    .dataframe thead th {\n",
       "        text-align: right;\n",
       "    }\n",
       "</style>\n",
       "<table border=\"1\" class=\"dataframe\">\n",
       "  <thead>\n",
       "    <tr style=\"text-align: right;\">\n",
       "      <th></th>\n",
       "      <th>A</th>\n",
       "      <th>B</th>\n",
       "      <th>C</th>\n",
       "      <th>D</th>\n",
       "      <th>E</th>\n",
       "      <th>2</th>\n",
       "    </tr>\n",
       "  </thead>\n",
       "  <tbody>\n",
       "    <tr>\n",
       "      <th>4</th>\n",
       "      <td>0.910742</td>\n",
       "      <td>0.040766</td>\n",
       "      <td>0.186427</td>\n",
       "      <td>0.128770</td>\n",
       "      <td>0.538214</td>\n",
       "      <td>NaN</td>\n",
       "    </tr>\n",
       "    <tr>\n",
       "      <th>17</th>\n",
       "      <td>0.579427</td>\n",
       "      <td>0.890270</td>\n",
       "      <td>0.771174</td>\n",
       "      <td>0.160675</td>\n",
       "      <td>0.974745</td>\n",
       "      <td>NaN</td>\n",
       "    </tr>\n",
       "    <tr>\n",
       "      <th>37</th>\n",
       "      <td>0.677561</td>\n",
       "      <td>0.070972</td>\n",
       "      <td>0.528540</td>\n",
       "      <td>0.076540</td>\n",
       "      <td>0.092532</td>\n",
       "      <td>NaN</td>\n",
       "    </tr>\n",
       "    <tr>\n",
       "      <th>45</th>\n",
       "      <td>0.722656</td>\n",
       "      <td>0.253513</td>\n",
       "      <td>0.124640</td>\n",
       "      <td>0.123150</td>\n",
       "      <td>0.081784</td>\n",
       "      <td>NaN</td>\n",
       "    </tr>\n",
       "    <tr>\n",
       "      <th>70</th>\n",
       "      <td>0.587732</td>\n",
       "      <td>0.853663</td>\n",
       "      <td>0.627664</td>\n",
       "      <td>0.169611</td>\n",
       "      <td>0.153974</td>\n",
       "      <td>NaN</td>\n",
       "    </tr>\n",
       "    <tr>\n",
       "      <th>86</th>\n",
       "      <td>0.535886</td>\n",
       "      <td>0.882137</td>\n",
       "      <td>0.816098</td>\n",
       "      <td>0.014097</td>\n",
       "      <td>0.786800</td>\n",
       "      <td>NaN</td>\n",
       "    </tr>\n",
       "    <tr>\n",
       "      <th>89</th>\n",
       "      <td>0.928314</td>\n",
       "      <td>0.068027</td>\n",
       "      <td>0.378988</td>\n",
       "      <td>0.004623</td>\n",
       "      <td>0.717332</td>\n",
       "      <td>NaN</td>\n",
       "    </tr>\n",
       "    <tr>\n",
       "      <th>90</th>\n",
       "      <td>0.694883</td>\n",
       "      <td>0.163970</td>\n",
       "      <td>0.304676</td>\n",
       "      <td>0.125035</td>\n",
       "      <td>0.231646</td>\n",
       "      <td>NaN</td>\n",
       "    </tr>\n",
       "    <tr>\n",
       "      <th>91</th>\n",
       "      <td>0.994356</td>\n",
       "      <td>0.054217</td>\n",
       "      <td>0.139958</td>\n",
       "      <td>0.013514</td>\n",
       "      <td>0.475878</td>\n",
       "      <td>NaN</td>\n",
       "    </tr>\n",
       "    <tr>\n",
       "      <th>98</th>\n",
       "      <td>0.706603</td>\n",
       "      <td>0.863383</td>\n",
       "      <td>0.895778</td>\n",
       "      <td>0.025787</td>\n",
       "      <td>0.924507</td>\n",
       "      <td>NaN</td>\n",
       "    </tr>\n",
       "  </tbody>\n",
       "</table>\n",
       "</div>"
      ],
      "text/plain": [
       "           A         B         C         D         E   2\n",
       "4   0.910742  0.040766  0.186427  0.128770  0.538214 NaN\n",
       "17  0.579427  0.890270  0.771174  0.160675  0.974745 NaN\n",
       "37  0.677561  0.070972  0.528540  0.076540  0.092532 NaN\n",
       "45  0.722656  0.253513  0.124640  0.123150  0.081784 NaN\n",
       "70  0.587732  0.853663  0.627664  0.169611  0.153974 NaN\n",
       "86  0.535886  0.882137  0.816098  0.014097  0.786800 NaN\n",
       "89  0.928314  0.068027  0.378988  0.004623  0.717332 NaN\n",
       "90  0.694883  0.163970  0.304676  0.125035  0.231646 NaN\n",
       "91  0.994356  0.054217  0.139958  0.013514  0.475878 NaN\n",
       "98  0.706603  0.863383  0.895778  0.025787  0.924507 NaN"
      ]
     },
     "execution_count": 147,
     "metadata": {},
     "output_type": "execute_result"
    }
   ],
   "source": [
    "dataf.loc[(dataf['A']>0.3) & (dataf['D']<0.2)]         # running complex queries"
   ]
  },
  {
   "cell_type": "code",
   "execution_count": 148,
   "metadata": {},
   "outputs": [
    {
     "data": {
      "text/plain": [
       "0.9245013510566181"
      ]
     },
     "execution_count": 148,
     "metadata": {},
     "output_type": "execute_result"
    }
   ],
   "source": [
    "dataf.iloc[0,4]                                         # use \"iloc\" to target values by counting index\n",
    "                                                        # use \"loc\" if wanna use names of index and columns"
   ]
  },
  {
   "cell_type": "code",
   "execution_count": 149,
   "metadata": {},
   "outputs": [
    {
     "data": {
      "text/html": [
       "<div>\n",
       "<style scoped>\n",
       "    .dataframe tbody tr th:only-of-type {\n",
       "        vertical-align: middle;\n",
       "    }\n",
       "\n",
       "    .dataframe tbody tr th {\n",
       "        vertical-align: top;\n",
       "    }\n",
       "\n",
       "    .dataframe thead th {\n",
       "        text-align: right;\n",
       "    }\n",
       "</style>\n",
       "<table border=\"1\" class=\"dataframe\">\n",
       "  <thead>\n",
       "    <tr style=\"text-align: right;\">\n",
       "      <th></th>\n",
       "      <th>E</th>\n",
       "      <th>B</th>\n",
       "    </tr>\n",
       "  </thead>\n",
       "  <tbody>\n",
       "    <tr>\n",
       "      <th>0</th>\n",
       "      <td>0.924501</td>\n",
       "      <td>0.238906</td>\n",
       "    </tr>\n",
       "    <tr>\n",
       "      <th>4</th>\n",
       "      <td>0.538214</td>\n",
       "      <td>0.040766</td>\n",
       "    </tr>\n",
       "  </tbody>\n",
       "</table>\n",
       "</div>"
      ],
      "text/plain": [
       "          E         B\n",
       "0  0.924501  0.238906\n",
       "4  0.538214  0.040766"
      ]
     },
     "execution_count": 149,
     "metadata": {},
     "output_type": "execute_result"
    }
   ],
   "source": [
    "dataf.iloc[[0,4], [4, 1]] "
   ]
  },
  {
   "cell_type": "code",
   "execution_count": 150,
   "metadata": {},
   "outputs": [
    {
     "data": {
      "text/html": [
       "<div>\n",
       "<style scoped>\n",
       "    .dataframe tbody tr th:only-of-type {\n",
       "        vertical-align: middle;\n",
       "    }\n",
       "\n",
       "    .dataframe tbody tr th {\n",
       "        vertical-align: top;\n",
       "    }\n",
       "\n",
       "    .dataframe thead th {\n",
       "        text-align: right;\n",
       "    }\n",
       "</style>\n",
       "<table border=\"1\" class=\"dataframe\">\n",
       "  <thead>\n",
       "    <tr style=\"text-align: right;\">\n",
       "      <th></th>\n",
       "      <th>A</th>\n",
       "      <th>B</th>\n",
       "    </tr>\n",
       "  </thead>\n",
       "  <tbody>\n",
       "    <tr>\n",
       "      <th>0</th>\n",
       "      <td>6</td>\n",
       "      <td>0.238906</td>\n",
       "    </tr>\n",
       "    <tr>\n",
       "      <th>1</th>\n",
       "      <td>0.829957</td>\n",
       "      <td>0.082526</td>\n",
       "    </tr>\n",
       "  </tbody>\n",
       "</table>\n",
       "</div>"
      ],
      "text/plain": [
       "          A         B\n",
       "0         6  0.238906\n",
       "1  0.829957  0.082526"
      ]
     },
     "execution_count": 150,
     "metadata": {},
     "output_type": "execute_result"
    }
   ],
   "source": [
    "dataf.iloc[0:2, 0:2]"
   ]
  },
  {
   "cell_type": "markdown",
   "metadata": {},
   "source": [
    "Delete values"
   ]
  },
  {
   "cell_type": "code",
   "execution_count": 151,
   "metadata": {},
   "outputs": [
    {
     "data": {
      "text/html": [
       "<div>\n",
       "<style scoped>\n",
       "    .dataframe tbody tr th:only-of-type {\n",
       "        vertical-align: middle;\n",
       "    }\n",
       "\n",
       "    .dataframe tbody tr th {\n",
       "        vertical-align: top;\n",
       "    }\n",
       "\n",
       "    .dataframe thead th {\n",
       "        text-align: right;\n",
       "    }\n",
       "</style>\n",
       "<table border=\"1\" class=\"dataframe\">\n",
       "  <thead>\n",
       "    <tr style=\"text-align: right;\">\n",
       "      <th></th>\n",
       "      <th>A</th>\n",
       "      <th>B</th>\n",
       "      <th>C</th>\n",
       "      <th>D</th>\n",
       "      <th>E</th>\n",
       "      <th>2</th>\n",
       "    </tr>\n",
       "  </thead>\n",
       "  <tbody>\n",
       "    <tr>\n",
       "      <th>1</th>\n",
       "      <td>0.829957</td>\n",
       "      <td>0.082526</td>\n",
       "      <td>0.898882</td>\n",
       "      <td>0.702453</td>\n",
       "      <td>0.561925</td>\n",
       "      <td>NaN</td>\n",
       "    </tr>\n",
       "    <tr>\n",
       "      <th>2</th>\n",
       "      <td>0.1526</td>\n",
       "      <td>0.293425</td>\n",
       "      <td>4.000000</td>\n",
       "      <td>0.924719</td>\n",
       "      <td>0.852891</td>\n",
       "      <td>4.0</td>\n",
       "    </tr>\n",
       "    <tr>\n",
       "      <th>3</th>\n",
       "      <td>0.663906</td>\n",
       "      <td>0.169698</td>\n",
       "      <td>0.856403</td>\n",
       "      <td>0.789484</td>\n",
       "      <td>0.291239</td>\n",
       "      <td>NaN</td>\n",
       "    </tr>\n",
       "    <tr>\n",
       "      <th>4</th>\n",
       "      <td>0.910742</td>\n",
       "      <td>0.040766</td>\n",
       "      <td>0.186427</td>\n",
       "      <td>0.128770</td>\n",
       "      <td>0.538214</td>\n",
       "      <td>NaN</td>\n",
       "    </tr>\n",
       "    <tr>\n",
       "      <th>5</th>\n",
       "      <td>0.693035</td>\n",
       "      <td>0.075565</td>\n",
       "      <td>0.184613</td>\n",
       "      <td>0.375000</td>\n",
       "      <td>0.707402</td>\n",
       "      <td>NaN</td>\n",
       "    </tr>\n",
       "    <tr>\n",
       "      <th>...</th>\n",
       "      <td>...</td>\n",
       "      <td>...</td>\n",
       "      <td>...</td>\n",
       "      <td>...</td>\n",
       "      <td>...</td>\n",
       "      <td>...</td>\n",
       "    </tr>\n",
       "    <tr>\n",
       "      <th>95</th>\n",
       "      <td>0.478546</td>\n",
       "      <td>0.181123</td>\n",
       "      <td>0.429045</td>\n",
       "      <td>0.662573</td>\n",
       "      <td>0.958692</td>\n",
       "      <td>NaN</td>\n",
       "    </tr>\n",
       "    <tr>\n",
       "      <th>96</th>\n",
       "      <td>0.230189</td>\n",
       "      <td>0.757637</td>\n",
       "      <td>0.728104</td>\n",
       "      <td>0.414319</td>\n",
       "      <td>0.383180</td>\n",
       "      <td>NaN</td>\n",
       "    </tr>\n",
       "    <tr>\n",
       "      <th>97</th>\n",
       "      <td>0.887617</td>\n",
       "      <td>0.016704</td>\n",
       "      <td>0.081143</td>\n",
       "      <td>0.649594</td>\n",
       "      <td>0.889589</td>\n",
       "      <td>NaN</td>\n",
       "    </tr>\n",
       "    <tr>\n",
       "      <th>98</th>\n",
       "      <td>0.706603</td>\n",
       "      <td>0.863383</td>\n",
       "      <td>0.895778</td>\n",
       "      <td>0.025787</td>\n",
       "      <td>0.924507</td>\n",
       "      <td>NaN</td>\n",
       "    </tr>\n",
       "    <tr>\n",
       "      <th>99</th>\n",
       "      <td>0.352633</td>\n",
       "      <td>0.013400</td>\n",
       "      <td>0.609602</td>\n",
       "      <td>0.699938</td>\n",
       "      <td>0.871482</td>\n",
       "      <td>NaN</td>\n",
       "    </tr>\n",
       "  </tbody>\n",
       "</table>\n",
       "<p>99 rows × 6 columns</p>\n",
       "</div>"
      ],
      "text/plain": [
       "           A         B         C         D         E    2\n",
       "1   0.829957  0.082526  0.898882  0.702453  0.561925  NaN\n",
       "2     0.1526  0.293425  4.000000  0.924719  0.852891  4.0\n",
       "3   0.663906  0.169698  0.856403  0.789484  0.291239  NaN\n",
       "4   0.910742  0.040766  0.186427  0.128770  0.538214  NaN\n",
       "5   0.693035  0.075565  0.184613  0.375000  0.707402  NaN\n",
       "..       ...       ...       ...       ...       ...  ...\n",
       "95  0.478546  0.181123  0.429045  0.662573  0.958692  NaN\n",
       "96  0.230189  0.757637  0.728104  0.414319  0.383180  NaN\n",
       "97  0.887617  0.016704  0.081143  0.649594  0.889589  NaN\n",
       "98  0.706603  0.863383  0.895778  0.025787  0.924507  NaN\n",
       "99  0.352633  0.013400  0.609602  0.699938  0.871482  NaN\n",
       "\n",
       "[99 rows x 6 columns]"
      ]
     },
     "execution_count": 151,
     "metadata": {},
     "output_type": "execute_result"
    }
   ],
   "source": [
    "dataf.drop([0])                                           # remove a row\n",
    "# dataf.drop(['A', 'C'], axis =1)                         # drop multiple columns at once"
   ]
  },
  {
   "cell_type": "code",
   "execution_count": 152,
   "metadata": {},
   "outputs": [],
   "source": [
    "# keep in mind that the original dataframe is intact, only the copy is getting change!\n",
    "\n",
    "# to make changes in the original dataframe\n",
    "dataf = dataf.drop([0])"
   ]
  },
  {
   "cell_type": "code",
   "execution_count": 153,
   "metadata": {},
   "outputs": [],
   "source": [
    "# or can use \"inplace\"\n",
    "\n",
    "# 'inplace' modifies the originaal data right there \n",
    "\n",
    "dataf.drop([2], axis=1, inplace=True)"
   ]
  },
  {
   "cell_type": "code",
   "execution_count": 154,
   "metadata": {},
   "outputs": [
    {
     "data": {
      "text/html": [
       "<div>\n",
       "<style scoped>\n",
       "    .dataframe tbody tr th:only-of-type {\n",
       "        vertical-align: middle;\n",
       "    }\n",
       "\n",
       "    .dataframe tbody tr th {\n",
       "        vertical-align: top;\n",
       "    }\n",
       "\n",
       "    .dataframe thead th {\n",
       "        text-align: right;\n",
       "    }\n",
       "</style>\n",
       "<table border=\"1\" class=\"dataframe\">\n",
       "  <thead>\n",
       "    <tr style=\"text-align: right;\">\n",
       "      <th></th>\n",
       "      <th>A</th>\n",
       "      <th>B</th>\n",
       "      <th>C</th>\n",
       "      <th>D</th>\n",
       "      <th>E</th>\n",
       "    </tr>\n",
       "  </thead>\n",
       "  <tbody>\n",
       "    <tr>\n",
       "      <th>1</th>\n",
       "      <td>0.829957</td>\n",
       "      <td>0.082526</td>\n",
       "      <td>0.898882</td>\n",
       "      <td>0.702453</td>\n",
       "      <td>0.561925</td>\n",
       "    </tr>\n",
       "    <tr>\n",
       "      <th>2</th>\n",
       "      <td>0.1526</td>\n",
       "      <td>0.293425</td>\n",
       "      <td>4.000000</td>\n",
       "      <td>0.924719</td>\n",
       "      <td>0.852891</td>\n",
       "    </tr>\n",
       "    <tr>\n",
       "      <th>3</th>\n",
       "      <td>0.663906</td>\n",
       "      <td>0.169698</td>\n",
       "      <td>0.856403</td>\n",
       "      <td>0.789484</td>\n",
       "      <td>0.291239</td>\n",
       "    </tr>\n",
       "    <tr>\n",
       "      <th>4</th>\n",
       "      <td>0.910742</td>\n",
       "      <td>0.040766</td>\n",
       "      <td>0.186427</td>\n",
       "      <td>0.128770</td>\n",
       "      <td>0.538214</td>\n",
       "    </tr>\n",
       "    <tr>\n",
       "      <th>5</th>\n",
       "      <td>0.693035</td>\n",
       "      <td>0.075565</td>\n",
       "      <td>0.184613</td>\n",
       "      <td>0.375000</td>\n",
       "      <td>0.707402</td>\n",
       "    </tr>\n",
       "    <tr>\n",
       "      <th>...</th>\n",
       "      <td>...</td>\n",
       "      <td>...</td>\n",
       "      <td>...</td>\n",
       "      <td>...</td>\n",
       "      <td>...</td>\n",
       "    </tr>\n",
       "    <tr>\n",
       "      <th>95</th>\n",
       "      <td>0.478546</td>\n",
       "      <td>0.181123</td>\n",
       "      <td>0.429045</td>\n",
       "      <td>0.662573</td>\n",
       "      <td>0.958692</td>\n",
       "    </tr>\n",
       "    <tr>\n",
       "      <th>96</th>\n",
       "      <td>0.230189</td>\n",
       "      <td>0.757637</td>\n",
       "      <td>0.728104</td>\n",
       "      <td>0.414319</td>\n",
       "      <td>0.383180</td>\n",
       "    </tr>\n",
       "    <tr>\n",
       "      <th>97</th>\n",
       "      <td>0.887617</td>\n",
       "      <td>0.016704</td>\n",
       "      <td>0.081143</td>\n",
       "      <td>0.649594</td>\n",
       "      <td>0.889589</td>\n",
       "    </tr>\n",
       "    <tr>\n",
       "      <th>98</th>\n",
       "      <td>0.706603</td>\n",
       "      <td>0.863383</td>\n",
       "      <td>0.895778</td>\n",
       "      <td>0.025787</td>\n",
       "      <td>0.924507</td>\n",
       "    </tr>\n",
       "    <tr>\n",
       "      <th>99</th>\n",
       "      <td>0.352633</td>\n",
       "      <td>0.013400</td>\n",
       "      <td>0.609602</td>\n",
       "      <td>0.699938</td>\n",
       "      <td>0.871482</td>\n",
       "    </tr>\n",
       "  </tbody>\n",
       "</table>\n",
       "<p>99 rows × 5 columns</p>\n",
       "</div>"
      ],
      "text/plain": [
       "           A         B         C         D         E\n",
       "1   0.829957  0.082526  0.898882  0.702453  0.561925\n",
       "2     0.1526  0.293425  4.000000  0.924719  0.852891\n",
       "3   0.663906  0.169698  0.856403  0.789484  0.291239\n",
       "4   0.910742  0.040766  0.186427  0.128770  0.538214\n",
       "5   0.693035  0.075565  0.184613  0.375000  0.707402\n",
       "..       ...       ...       ...       ...       ...\n",
       "95  0.478546  0.181123  0.429045  0.662573  0.958692\n",
       "96  0.230189  0.757637  0.728104  0.414319  0.383180\n",
       "97  0.887617  0.016704  0.081143  0.649594  0.889589\n",
       "98  0.706603  0.863383  0.895778  0.025787  0.924507\n",
       "99  0.352633  0.013400  0.609602  0.699938  0.871482\n",
       "\n",
       "[99 rows x 5 columns]"
      ]
     },
     "execution_count": 154,
     "metadata": {},
     "output_type": "execute_result"
    }
   ],
   "source": [
    "dataf"
   ]
  },
  {
   "cell_type": "code",
   "execution_count": 155,
   "metadata": {},
   "outputs": [
    {
     "data": {
      "text/html": [
       "<div>\n",
       "<style scoped>\n",
       "    .dataframe tbody tr th:only-of-type {\n",
       "        vertical-align: middle;\n",
       "    }\n",
       "\n",
       "    .dataframe tbody tr th {\n",
       "        vertical-align: top;\n",
       "    }\n",
       "\n",
       "    .dataframe thead th {\n",
       "        text-align: right;\n",
       "    }\n",
       "</style>\n",
       "<table border=\"1\" class=\"dataframe\">\n",
       "  <thead>\n",
       "    <tr style=\"text-align: right;\">\n",
       "      <th></th>\n",
       "      <th>index</th>\n",
       "      <th>A</th>\n",
       "      <th>B</th>\n",
       "      <th>C</th>\n",
       "      <th>D</th>\n",
       "      <th>E</th>\n",
       "    </tr>\n",
       "  </thead>\n",
       "  <tbody>\n",
       "    <tr>\n",
       "      <th>0</th>\n",
       "      <td>1</td>\n",
       "      <td>0.829957</td>\n",
       "      <td>0.082526</td>\n",
       "      <td>0.898882</td>\n",
       "      <td>0.702453</td>\n",
       "      <td>0.561925</td>\n",
       "    </tr>\n",
       "    <tr>\n",
       "      <th>1</th>\n",
       "      <td>2</td>\n",
       "      <td>0.1526</td>\n",
       "      <td>0.293425</td>\n",
       "      <td>4.000000</td>\n",
       "      <td>0.924719</td>\n",
       "      <td>0.852891</td>\n",
       "    </tr>\n",
       "    <tr>\n",
       "      <th>2</th>\n",
       "      <td>3</td>\n",
       "      <td>0.663906</td>\n",
       "      <td>0.169698</td>\n",
       "      <td>0.856403</td>\n",
       "      <td>0.789484</td>\n",
       "      <td>0.291239</td>\n",
       "    </tr>\n",
       "    <tr>\n",
       "      <th>3</th>\n",
       "      <td>4</td>\n",
       "      <td>0.910742</td>\n",
       "      <td>0.040766</td>\n",
       "      <td>0.186427</td>\n",
       "      <td>0.128770</td>\n",
       "      <td>0.538214</td>\n",
       "    </tr>\n",
       "    <tr>\n",
       "      <th>4</th>\n",
       "      <td>5</td>\n",
       "      <td>0.693035</td>\n",
       "      <td>0.075565</td>\n",
       "      <td>0.184613</td>\n",
       "      <td>0.375000</td>\n",
       "      <td>0.707402</td>\n",
       "    </tr>\n",
       "    <tr>\n",
       "      <th>...</th>\n",
       "      <td>...</td>\n",
       "      <td>...</td>\n",
       "      <td>...</td>\n",
       "      <td>...</td>\n",
       "      <td>...</td>\n",
       "      <td>...</td>\n",
       "    </tr>\n",
       "    <tr>\n",
       "      <th>94</th>\n",
       "      <td>95</td>\n",
       "      <td>0.478546</td>\n",
       "      <td>0.181123</td>\n",
       "      <td>0.429045</td>\n",
       "      <td>0.662573</td>\n",
       "      <td>0.958692</td>\n",
       "    </tr>\n",
       "    <tr>\n",
       "      <th>95</th>\n",
       "      <td>96</td>\n",
       "      <td>0.230189</td>\n",
       "      <td>0.757637</td>\n",
       "      <td>0.728104</td>\n",
       "      <td>0.414319</td>\n",
       "      <td>0.383180</td>\n",
       "    </tr>\n",
       "    <tr>\n",
       "      <th>96</th>\n",
       "      <td>97</td>\n",
       "      <td>0.887617</td>\n",
       "      <td>0.016704</td>\n",
       "      <td>0.081143</td>\n",
       "      <td>0.649594</td>\n",
       "      <td>0.889589</td>\n",
       "    </tr>\n",
       "    <tr>\n",
       "      <th>97</th>\n",
       "      <td>98</td>\n",
       "      <td>0.706603</td>\n",
       "      <td>0.863383</td>\n",
       "      <td>0.895778</td>\n",
       "      <td>0.025787</td>\n",
       "      <td>0.924507</td>\n",
       "    </tr>\n",
       "    <tr>\n",
       "      <th>98</th>\n",
       "      <td>99</td>\n",
       "      <td>0.352633</td>\n",
       "      <td>0.013400</td>\n",
       "      <td>0.609602</td>\n",
       "      <td>0.699938</td>\n",
       "      <td>0.871482</td>\n",
       "    </tr>\n",
       "  </tbody>\n",
       "</table>\n",
       "<p>99 rows × 6 columns</p>\n",
       "</div>"
      ],
      "text/plain": [
       "    index         A         B         C         D         E\n",
       "0       1  0.829957  0.082526  0.898882  0.702453  0.561925\n",
       "1       2    0.1526  0.293425  4.000000  0.924719  0.852891\n",
       "2       3  0.663906  0.169698  0.856403  0.789484  0.291239\n",
       "3       4  0.910742  0.040766  0.186427  0.128770  0.538214\n",
       "4       5  0.693035  0.075565  0.184613  0.375000  0.707402\n",
       "..    ...       ...       ...       ...       ...       ...\n",
       "94     95  0.478546  0.181123  0.429045  0.662573  0.958692\n",
       "95     96  0.230189  0.757637  0.728104  0.414319  0.383180\n",
       "96     97  0.887617  0.016704  0.081143  0.649594  0.889589\n",
       "97     98  0.706603  0.863383  0.895778  0.025787  0.924507\n",
       "98     99  0.352633  0.013400  0.609602  0.699938  0.871482\n",
       "\n",
       "[99 rows x 6 columns]"
      ]
     },
     "execution_count": 155,
     "metadata": {},
     "output_type": "execute_result"
    }
   ],
   "source": [
    "dataf.reset_index()"
   ]
  },
  {
   "cell_type": "code",
   "execution_count": 156,
   "metadata": {},
   "outputs": [
    {
     "data": {
      "text/html": [
       "<div>\n",
       "<style scoped>\n",
       "    .dataframe tbody tr th:only-of-type {\n",
       "        vertical-align: middle;\n",
       "    }\n",
       "\n",
       "    .dataframe tbody tr th {\n",
       "        vertical-align: top;\n",
       "    }\n",
       "\n",
       "    .dataframe thead th {\n",
       "        text-align: right;\n",
       "    }\n",
       "</style>\n",
       "<table border=\"1\" class=\"dataframe\">\n",
       "  <thead>\n",
       "    <tr style=\"text-align: right;\">\n",
       "      <th></th>\n",
       "      <th>A</th>\n",
       "      <th>B</th>\n",
       "      <th>C</th>\n",
       "      <th>D</th>\n",
       "      <th>E</th>\n",
       "    </tr>\n",
       "  </thead>\n",
       "  <tbody>\n",
       "    <tr>\n",
       "      <th>0</th>\n",
       "      <td>0.829957</td>\n",
       "      <td>0.082526</td>\n",
       "      <td>0.898882</td>\n",
       "      <td>0.702453</td>\n",
       "      <td>0.561925</td>\n",
       "    </tr>\n",
       "    <tr>\n",
       "      <th>1</th>\n",
       "      <td>0.1526</td>\n",
       "      <td>0.293425</td>\n",
       "      <td>4.000000</td>\n",
       "      <td>0.924719</td>\n",
       "      <td>0.852891</td>\n",
       "    </tr>\n",
       "    <tr>\n",
       "      <th>2</th>\n",
       "      <td>0.663906</td>\n",
       "      <td>0.169698</td>\n",
       "      <td>0.856403</td>\n",
       "      <td>0.789484</td>\n",
       "      <td>0.291239</td>\n",
       "    </tr>\n",
       "  </tbody>\n",
       "</table>\n",
       "</div>"
      ],
      "text/plain": [
       "          A         B         C         D         E\n",
       "0  0.829957  0.082526  0.898882  0.702453  0.561925\n",
       "1    0.1526  0.293425  4.000000  0.924719  0.852891\n",
       "2  0.663906  0.169698  0.856403  0.789484  0.291239"
      ]
     },
     "execution_count": 156,
     "metadata": {},
     "output_type": "execute_result"
    }
   ],
   "source": [
    "dataf.reset_index(drop=True, inplace = True)\n",
    "dataf.head(3)"
   ]
  },
  {
   "cell_type": "markdown",
   "metadata": {},
   "source": [
    "Check for Null Values"
   ]
  },
  {
   "cell_type": "code",
   "execution_count": 157,
   "metadata": {},
   "outputs": [
    {
     "data": {
      "text/plain": [
       "0     False\n",
       "1     False\n",
       "2     False\n",
       "3     False\n",
       "4     False\n",
       "      ...  \n",
       "94    False\n",
       "95    False\n",
       "96    False\n",
       "97    False\n",
       "98    False\n",
       "Name: E, Length: 99, dtype: bool"
      ]
     },
     "execution_count": 157,
     "metadata": {},
     "output_type": "execute_result"
    }
   ],
   "source": [
    "dataf['E'].isnull()"
   ]
  },
  {
   "cell_type": "code",
   "execution_count": 158,
   "metadata": {},
   "outputs": [
    {
     "data": {
      "text/html": [
       "<div>\n",
       "<style scoped>\n",
       "    .dataframe tbody tr th:only-of-type {\n",
       "        vertical-align: middle;\n",
       "    }\n",
       "\n",
       "    .dataframe tbody tr th {\n",
       "        vertical-align: top;\n",
       "    }\n",
       "\n",
       "    .dataframe thead th {\n",
       "        text-align: right;\n",
       "    }\n",
       "</style>\n",
       "<table border=\"1\" class=\"dataframe\">\n",
       "  <thead>\n",
       "    <tr style=\"text-align: right;\">\n",
       "      <th></th>\n",
       "      <th>A</th>\n",
       "      <th>B</th>\n",
       "      <th>C</th>\n",
       "      <th>D</th>\n",
       "      <th>E</th>\n",
       "    </tr>\n",
       "  </thead>\n",
       "  <tbody>\n",
       "    <tr>\n",
       "      <th>0</th>\n",
       "      <td>0.829957</td>\n",
       "      <td>0.082526</td>\n",
       "      <td>0.898882</td>\n",
       "      <td>0.702453</td>\n",
       "      <td>None</td>\n",
       "    </tr>\n",
       "    <tr>\n",
       "      <th>1</th>\n",
       "      <td>0.1526</td>\n",
       "      <td>0.293425</td>\n",
       "      <td>4.000000</td>\n",
       "      <td>0.924719</td>\n",
       "      <td>None</td>\n",
       "    </tr>\n",
       "    <tr>\n",
       "      <th>2</th>\n",
       "      <td>0.663906</td>\n",
       "      <td>0.169698</td>\n",
       "      <td>0.856403</td>\n",
       "      <td>0.789484</td>\n",
       "      <td>None</td>\n",
       "    </tr>\n",
       "    <tr>\n",
       "      <th>3</th>\n",
       "      <td>0.910742</td>\n",
       "      <td>0.040766</td>\n",
       "      <td>0.186427</td>\n",
       "      <td>0.128770</td>\n",
       "      <td>None</td>\n",
       "    </tr>\n",
       "    <tr>\n",
       "      <th>4</th>\n",
       "      <td>0.693035</td>\n",
       "      <td>0.075565</td>\n",
       "      <td>0.184613</td>\n",
       "      <td>0.375000</td>\n",
       "      <td>None</td>\n",
       "    </tr>\n",
       "    <tr>\n",
       "      <th>...</th>\n",
       "      <td>...</td>\n",
       "      <td>...</td>\n",
       "      <td>...</td>\n",
       "      <td>...</td>\n",
       "      <td>...</td>\n",
       "    </tr>\n",
       "    <tr>\n",
       "      <th>94</th>\n",
       "      <td>0.478546</td>\n",
       "      <td>0.181123</td>\n",
       "      <td>0.429045</td>\n",
       "      <td>0.662573</td>\n",
       "      <td>None</td>\n",
       "    </tr>\n",
       "    <tr>\n",
       "      <th>95</th>\n",
       "      <td>0.230189</td>\n",
       "      <td>0.757637</td>\n",
       "      <td>0.728104</td>\n",
       "      <td>0.414319</td>\n",
       "      <td>None</td>\n",
       "    </tr>\n",
       "    <tr>\n",
       "      <th>96</th>\n",
       "      <td>0.887617</td>\n",
       "      <td>0.016704</td>\n",
       "      <td>0.081143</td>\n",
       "      <td>0.649594</td>\n",
       "      <td>None</td>\n",
       "    </tr>\n",
       "    <tr>\n",
       "      <th>97</th>\n",
       "      <td>0.706603</td>\n",
       "      <td>0.863383</td>\n",
       "      <td>0.895778</td>\n",
       "      <td>0.025787</td>\n",
       "      <td>None</td>\n",
       "    </tr>\n",
       "    <tr>\n",
       "      <th>98</th>\n",
       "      <td>0.352633</td>\n",
       "      <td>0.013400</td>\n",
       "      <td>0.609602</td>\n",
       "      <td>0.699938</td>\n",
       "      <td>None</td>\n",
       "    </tr>\n",
       "  </tbody>\n",
       "</table>\n",
       "<p>99 rows × 5 columns</p>\n",
       "</div>"
      ],
      "text/plain": [
       "           A         B         C         D     E\n",
       "0   0.829957  0.082526  0.898882  0.702453  None\n",
       "1     0.1526  0.293425  4.000000  0.924719  None\n",
       "2   0.663906  0.169698  0.856403  0.789484  None\n",
       "3   0.910742  0.040766  0.186427  0.128770  None\n",
       "4   0.693035  0.075565  0.184613  0.375000  None\n",
       "..       ...       ...       ...       ...   ...\n",
       "94  0.478546  0.181123  0.429045  0.662573  None\n",
       "95  0.230189  0.757637  0.728104  0.414319  None\n",
       "96  0.887617  0.016704  0.081143  0.649594  None\n",
       "97  0.706603  0.863383  0.895778  0.025787  None\n",
       "98  0.352633  0.013400  0.609602  0.699938  None\n",
       "\n",
       "[99 rows x 5 columns]"
      ]
     },
     "execution_count": 158,
     "metadata": {},
     "output_type": "execute_result"
    }
   ],
   "source": [
    "dataf['E']=None\n",
    "dataf"
   ]
  },
  {
   "cell_type": "code",
   "execution_count": 159,
   "metadata": {},
   "outputs": [
    {
     "data": {
      "text/plain": [
       "0     True\n",
       "1     True\n",
       "2     True\n",
       "3     True\n",
       "4     True\n",
       "      ... \n",
       "94    True\n",
       "95    True\n",
       "96    True\n",
       "97    True\n",
       "98    True\n",
       "Name: E, Length: 99, dtype: bool"
      ]
     },
     "execution_count": 159,
     "metadata": {},
     "output_type": "execute_result"
    }
   ],
   "source": [
    "dataf['E'].isnull()"
   ]
  },
  {
   "cell_type": "code",
   "execution_count": 160,
   "metadata": {},
   "outputs": [
    {
     "data": {
      "text/plain": [
       "0     True\n",
       "1     True\n",
       "2     True\n",
       "3     True\n",
       "4     True\n",
       "      ... \n",
       "94    True\n",
       "95    True\n",
       "96    True\n",
       "97    True\n",
       "98    True\n",
       "Name: E, Length: 99, dtype: bool"
      ]
     },
     "execution_count": 160,
     "metadata": {},
     "output_type": "execute_result"
    }
   ],
   "source": [
    "# but recommended way is\n",
    "\n",
    "dataf.loc[:, ['E']] = None\n",
    "dataf['E'].isnull()"
   ]
  },
  {
   "cell_type": "code",
   "execution_count": 161,
   "metadata": {},
   "outputs": [
    {
     "data": {
      "text/html": [
       "<div>\n",
       "<style scoped>\n",
       "    .dataframe tbody tr th:only-of-type {\n",
       "        vertical-align: middle;\n",
       "    }\n",
       "\n",
       "    .dataframe tbody tr th {\n",
       "        vertical-align: top;\n",
       "    }\n",
       "\n",
       "    .dataframe thead th {\n",
       "        text-align: right;\n",
       "    }\n",
       "</style>\n",
       "<table border=\"1\" class=\"dataframe\">\n",
       "  <thead>\n",
       "    <tr style=\"text-align: right;\">\n",
       "      <th></th>\n",
       "      <th>A</th>\n",
       "      <th>B</th>\n",
       "      <th>C</th>\n",
       "      <th>D</th>\n",
       "      <th>E</th>\n",
       "    </tr>\n",
       "  </thead>\n",
       "  <tbody>\n",
       "    <tr>\n",
       "      <th>0</th>\n",
       "      <td>True</td>\n",
       "      <td>True</td>\n",
       "      <td>True</td>\n",
       "      <td>True</td>\n",
       "      <td>False</td>\n",
       "    </tr>\n",
       "    <tr>\n",
       "      <th>1</th>\n",
       "      <td>True</td>\n",
       "      <td>True</td>\n",
       "      <td>True</td>\n",
       "      <td>True</td>\n",
       "      <td>False</td>\n",
       "    </tr>\n",
       "    <tr>\n",
       "      <th>2</th>\n",
       "      <td>True</td>\n",
       "      <td>True</td>\n",
       "      <td>True</td>\n",
       "      <td>True</td>\n",
       "      <td>False</td>\n",
       "    </tr>\n",
       "    <tr>\n",
       "      <th>3</th>\n",
       "      <td>True</td>\n",
       "      <td>True</td>\n",
       "      <td>True</td>\n",
       "      <td>True</td>\n",
       "      <td>False</td>\n",
       "    </tr>\n",
       "    <tr>\n",
       "      <th>4</th>\n",
       "      <td>True</td>\n",
       "      <td>True</td>\n",
       "      <td>True</td>\n",
       "      <td>True</td>\n",
       "      <td>False</td>\n",
       "    </tr>\n",
       "    <tr>\n",
       "      <th>...</th>\n",
       "      <td>...</td>\n",
       "      <td>...</td>\n",
       "      <td>...</td>\n",
       "      <td>...</td>\n",
       "      <td>...</td>\n",
       "    </tr>\n",
       "    <tr>\n",
       "      <th>94</th>\n",
       "      <td>True</td>\n",
       "      <td>True</td>\n",
       "      <td>True</td>\n",
       "      <td>True</td>\n",
       "      <td>False</td>\n",
       "    </tr>\n",
       "    <tr>\n",
       "      <th>95</th>\n",
       "      <td>True</td>\n",
       "      <td>True</td>\n",
       "      <td>True</td>\n",
       "      <td>True</td>\n",
       "      <td>False</td>\n",
       "    </tr>\n",
       "    <tr>\n",
       "      <th>96</th>\n",
       "      <td>True</td>\n",
       "      <td>True</td>\n",
       "      <td>True</td>\n",
       "      <td>True</td>\n",
       "      <td>False</td>\n",
       "    </tr>\n",
       "    <tr>\n",
       "      <th>97</th>\n",
       "      <td>True</td>\n",
       "      <td>True</td>\n",
       "      <td>True</td>\n",
       "      <td>True</td>\n",
       "      <td>False</td>\n",
       "    </tr>\n",
       "    <tr>\n",
       "      <th>98</th>\n",
       "      <td>True</td>\n",
       "      <td>True</td>\n",
       "      <td>True</td>\n",
       "      <td>True</td>\n",
       "      <td>False</td>\n",
       "    </tr>\n",
       "  </tbody>\n",
       "</table>\n",
       "<p>99 rows × 5 columns</p>\n",
       "</div>"
      ],
      "text/plain": [
       "       A     B     C     D      E\n",
       "0   True  True  True  True  False\n",
       "1   True  True  True  True  False\n",
       "2   True  True  True  True  False\n",
       "3   True  True  True  True  False\n",
       "4   True  True  True  True  False\n",
       "..   ...   ...   ...   ...    ...\n",
       "94  True  True  True  True  False\n",
       "95  True  True  True  True  False\n",
       "96  True  True  True  True  False\n",
       "97  True  True  True  True  False\n",
       "98  True  True  True  True  False\n",
       "\n",
       "[99 rows x 5 columns]"
      ]
     },
     "execution_count": 161,
     "metadata": {},
     "output_type": "execute_result"
    }
   ],
   "source": [
    "dataf.notnull()"
   ]
  },
  {
   "cell_type": "markdown",
   "metadata": {},
   "source": [
    "---------------------------------------------------------------------------------------"
   ]
  },
  {
   "cell_type": "code",
   "execution_count": 162,
   "metadata": {},
   "outputs": [],
   "source": [
    "data = pd.DataFrame({\"name\": ['Harry', 'Ron', 'Hermione'],\n",
    "                     \"home\": ['Hogwarts', 'Burrow', np.nan],\n",
    "                     \"dob\": ['31 July', pd.NaT, pd.NaT],\n",
    "                    \"house\": ['Gryffindor', 'Gryffindor', 'Gryffindor'],\n",
    "                    \"role\": [pd.NaT, pd.NaT, pd.NaT]})"
   ]
  },
  {
   "cell_type": "code",
   "execution_count": 163,
   "metadata": {},
   "outputs": [
    {
     "data": {
      "text/html": [
       "<div>\n",
       "<style scoped>\n",
       "    .dataframe tbody tr th:only-of-type {\n",
       "        vertical-align: middle;\n",
       "    }\n",
       "\n",
       "    .dataframe tbody tr th {\n",
       "        vertical-align: top;\n",
       "    }\n",
       "\n",
       "    .dataframe thead th {\n",
       "        text-align: right;\n",
       "    }\n",
       "</style>\n",
       "<table border=\"1\" class=\"dataframe\">\n",
       "  <thead>\n",
       "    <tr style=\"text-align: right;\">\n",
       "      <th></th>\n",
       "      <th>name</th>\n",
       "      <th>home</th>\n",
       "      <th>dob</th>\n",
       "      <th>house</th>\n",
       "      <th>role</th>\n",
       "    </tr>\n",
       "  </thead>\n",
       "  <tbody>\n",
       "    <tr>\n",
       "      <th>0</th>\n",
       "      <td>Harry</td>\n",
       "      <td>Hogwarts</td>\n",
       "      <td>31 July</td>\n",
       "      <td>Gryffindor</td>\n",
       "      <td>NaT</td>\n",
       "    </tr>\n",
       "    <tr>\n",
       "      <th>1</th>\n",
       "      <td>Ron</td>\n",
       "      <td>Burrow</td>\n",
       "      <td>NaT</td>\n",
       "      <td>Gryffindor</td>\n",
       "      <td>NaT</td>\n",
       "    </tr>\n",
       "    <tr>\n",
       "      <th>2</th>\n",
       "      <td>Hermione</td>\n",
       "      <td>NaN</td>\n",
       "      <td>NaT</td>\n",
       "      <td>Gryffindor</td>\n",
       "      <td>NaT</td>\n",
       "    </tr>\n",
       "  </tbody>\n",
       "</table>\n",
       "</div>"
      ],
      "text/plain": [
       "       name      home      dob       house role\n",
       "0     Harry  Hogwarts  31 July  Gryffindor  NaT\n",
       "1       Ron    Burrow      NaT  Gryffindor  NaT\n",
       "2  Hermione       NaN      NaT  Gryffindor  NaT"
      ]
     },
     "execution_count": 163,
     "metadata": {},
     "output_type": "execute_result"
    }
   ],
   "source": [
    "data"
   ]
  },
  {
   "cell_type": "code",
   "execution_count": 164,
   "metadata": {},
   "outputs": [
    {
     "data": {
      "text/html": [
       "<div>\n",
       "<style scoped>\n",
       "    .dataframe tbody tr th:only-of-type {\n",
       "        vertical-align: middle;\n",
       "    }\n",
       "\n",
       "    .dataframe tbody tr th {\n",
       "        vertical-align: top;\n",
       "    }\n",
       "\n",
       "    .dataframe thead th {\n",
       "        text-align: right;\n",
       "    }\n",
       "</style>\n",
       "<table border=\"1\" class=\"dataframe\">\n",
       "  <thead>\n",
       "    <tr style=\"text-align: right;\">\n",
       "      <th></th>\n",
       "      <th>name</th>\n",
       "      <th>home</th>\n",
       "      <th>dob</th>\n",
       "      <th>house</th>\n",
       "      <th>role</th>\n",
       "    </tr>\n",
       "  </thead>\n",
       "  <tbody>\n",
       "  </tbody>\n",
       "</table>\n",
       "</div>"
      ],
      "text/plain": [
       "Empty DataFrame\n",
       "Columns: [name, home, dob, house, role]\n",
       "Index: []"
      ]
     },
     "execution_count": 164,
     "metadata": {},
     "output_type": "execute_result"
    }
   ],
   "source": [
    "data.dropna()                 "
   ]
  },
  {
   "cell_type": "code",
   "execution_count": 165,
   "metadata": {},
   "outputs": [
    {
     "data": {
      "text/html": [
       "<div>\n",
       "<style scoped>\n",
       "    .dataframe tbody tr th:only-of-type {\n",
       "        vertical-align: middle;\n",
       "    }\n",
       "\n",
       "    .dataframe tbody tr th {\n",
       "        vertical-align: top;\n",
       "    }\n",
       "\n",
       "    .dataframe thead th {\n",
       "        text-align: right;\n",
       "    }\n",
       "</style>\n",
       "<table border=\"1\" class=\"dataframe\">\n",
       "  <thead>\n",
       "    <tr style=\"text-align: right;\">\n",
       "      <th></th>\n",
       "      <th>name</th>\n",
       "      <th>house</th>\n",
       "    </tr>\n",
       "  </thead>\n",
       "  <tbody>\n",
       "    <tr>\n",
       "      <th>0</th>\n",
       "      <td>Harry</td>\n",
       "      <td>Gryffindor</td>\n",
       "    </tr>\n",
       "    <tr>\n",
       "      <th>1</th>\n",
       "      <td>Ron</td>\n",
       "      <td>Gryffindor</td>\n",
       "    </tr>\n",
       "    <tr>\n",
       "      <th>2</th>\n",
       "      <td>Hermione</td>\n",
       "      <td>Gryffindor</td>\n",
       "    </tr>\n",
       "  </tbody>\n",
       "</table>\n",
       "</div>"
      ],
      "text/plain": [
       "       name       house\n",
       "0     Harry  Gryffindor\n",
       "1       Ron  Gryffindor\n",
       "2  Hermione  Gryffindor"
      ]
     },
     "execution_count": 165,
     "metadata": {},
     "output_type": "execute_result"
    }
   ],
   "source": [
    "data.dropna(axis=1)                 "
   ]
  },
  {
   "cell_type": "code",
   "execution_count": 166,
   "metadata": {},
   "outputs": [
    {
     "data": {
      "text/html": [
       "<div>\n",
       "<style scoped>\n",
       "    .dataframe tbody tr th:only-of-type {\n",
       "        vertical-align: middle;\n",
       "    }\n",
       "\n",
       "    .dataframe tbody tr th {\n",
       "        vertical-align: top;\n",
       "    }\n",
       "\n",
       "    .dataframe thead th {\n",
       "        text-align: right;\n",
       "    }\n",
       "</style>\n",
       "<table border=\"1\" class=\"dataframe\">\n",
       "  <thead>\n",
       "    <tr style=\"text-align: right;\">\n",
       "      <th></th>\n",
       "      <th>name</th>\n",
       "      <th>home</th>\n",
       "      <th>dob</th>\n",
       "      <th>house</th>\n",
       "    </tr>\n",
       "  </thead>\n",
       "  <tbody>\n",
       "    <tr>\n",
       "      <th>0</th>\n",
       "      <td>Harry</td>\n",
       "      <td>Hogwarts</td>\n",
       "      <td>31 July</td>\n",
       "      <td>Gryffindor</td>\n",
       "    </tr>\n",
       "    <tr>\n",
       "      <th>1</th>\n",
       "      <td>Ron</td>\n",
       "      <td>Burrow</td>\n",
       "      <td>NaT</td>\n",
       "      <td>Gryffindor</td>\n",
       "    </tr>\n",
       "    <tr>\n",
       "      <th>2</th>\n",
       "      <td>Hermione</td>\n",
       "      <td>NaN</td>\n",
       "      <td>NaT</td>\n",
       "      <td>Gryffindor</td>\n",
       "    </tr>\n",
       "  </tbody>\n",
       "</table>\n",
       "</div>"
      ],
      "text/plain": [
       "       name      home      dob       house\n",
       "0     Harry  Hogwarts  31 July  Gryffindor\n",
       "1       Ron    Burrow      NaT  Gryffindor\n",
       "2  Hermione       NaN      NaT  Gryffindor"
      ]
     },
     "execution_count": 166,
     "metadata": {},
     "output_type": "execute_result"
    }
   ],
   "source": [
    "data.dropna(how='all', axis=1)                   # drops entire row/column if all elements are na "
   ]
  },
  {
   "cell_type": "markdown",
   "metadata": {},
   "source": [
    "Check for duplicates"
   ]
  },
  {
   "cell_type": "code",
   "execution_count": 167,
   "metadata": {},
   "outputs": [
    {
     "data": {
      "text/plain": [
       "0    False\n",
       "1    False\n",
       "2    False\n",
       "dtype: bool"
      ]
     },
     "execution_count": 167,
     "metadata": {},
     "output_type": "execute_result"
    }
   ],
   "source": [
    "data.duplicated()"
   ]
  },
  {
   "cell_type": "markdown",
   "metadata": {},
   "source": [
    "Deleting duplicate values"
   ]
  },
  {
   "cell_type": "code",
   "execution_count": 168,
   "metadata": {},
   "outputs": [
    {
     "data": {
      "text/html": [
       "<div>\n",
       "<style scoped>\n",
       "    .dataframe tbody tr th:only-of-type {\n",
       "        vertical-align: middle;\n",
       "    }\n",
       "\n",
       "    .dataframe tbody tr th {\n",
       "        vertical-align: top;\n",
       "    }\n",
       "\n",
       "    .dataframe thead th {\n",
       "        text-align: right;\n",
       "    }\n",
       "</style>\n",
       "<table border=\"1\" class=\"dataframe\">\n",
       "  <thead>\n",
       "    <tr style=\"text-align: right;\">\n",
       "      <th></th>\n",
       "      <th>name</th>\n",
       "      <th>home</th>\n",
       "      <th>dob</th>\n",
       "      <th>house</th>\n",
       "      <th>role</th>\n",
       "    </tr>\n",
       "  </thead>\n",
       "  <tbody>\n",
       "    <tr>\n",
       "      <th>0</th>\n",
       "      <td>Harry</td>\n",
       "      <td>Hogwarts</td>\n",
       "      <td>31 July</td>\n",
       "      <td>Gryffindor</td>\n",
       "      <td>NaT</td>\n",
       "    </tr>\n",
       "    <tr>\n",
       "      <th>1</th>\n",
       "      <td>Ron</td>\n",
       "      <td>Burrow</td>\n",
       "      <td>NaT</td>\n",
       "      <td>Gryffindor</td>\n",
       "      <td>NaT</td>\n",
       "    </tr>\n",
       "  </tbody>\n",
       "</table>\n",
       "</div>"
      ],
      "text/plain": [
       "    name      home      dob       house role\n",
       "0  Harry  Hogwarts  31 July  Gryffindor  NaT\n",
       "1    Ron    Burrow      NaT  Gryffindor  NaT"
      ]
     },
     "execution_count": 168,
     "metadata": {},
     "output_type": "execute_result"
    }
   ],
   "source": [
    "data.drop_duplicates(subset=['dob'])"
   ]
  },
  {
   "cell_type": "code",
   "execution_count": 169,
   "metadata": {},
   "outputs": [
    {
     "data": {
      "text/html": [
       "<div>\n",
       "<style scoped>\n",
       "    .dataframe tbody tr th:only-of-type {\n",
       "        vertical-align: middle;\n",
       "    }\n",
       "\n",
       "    .dataframe tbody tr th {\n",
       "        vertical-align: top;\n",
       "    }\n",
       "\n",
       "    .dataframe thead th {\n",
       "        text-align: right;\n",
       "    }\n",
       "</style>\n",
       "<table border=\"1\" class=\"dataframe\">\n",
       "  <thead>\n",
       "    <tr style=\"text-align: right;\">\n",
       "      <th></th>\n",
       "      <th>name</th>\n",
       "      <th>home</th>\n",
       "      <th>dob</th>\n",
       "      <th>house</th>\n",
       "      <th>role</th>\n",
       "    </tr>\n",
       "  </thead>\n",
       "  <tbody>\n",
       "    <tr>\n",
       "      <th>2</th>\n",
       "      <td>Hermione</td>\n",
       "      <td>NaN</td>\n",
       "      <td>NaT</td>\n",
       "      <td>Gryffindor</td>\n",
       "      <td>NaT</td>\n",
       "    </tr>\n",
       "  </tbody>\n",
       "</table>\n",
       "</div>"
      ],
      "text/plain": [
       "       name home  dob       house role\n",
       "2  Hermione  NaN  NaT  Gryffindor  NaT"
      ]
     },
     "execution_count": 169,
     "metadata": {},
     "output_type": "execute_result"
    }
   ],
   "source": [
    "data.drop_duplicates(subset=['house'], keep='last')                     # keep is first by default"
   ]
  },
  {
   "cell_type": "code",
   "execution_count": 170,
   "metadata": {},
   "outputs": [
    {
     "data": {
      "text/html": [
       "<div>\n",
       "<style scoped>\n",
       "    .dataframe tbody tr th:only-of-type {\n",
       "        vertical-align: middle;\n",
       "    }\n",
       "\n",
       "    .dataframe tbody tr th {\n",
       "        vertical-align: top;\n",
       "    }\n",
       "\n",
       "    .dataframe thead th {\n",
       "        text-align: right;\n",
       "    }\n",
       "</style>\n",
       "<table border=\"1\" class=\"dataframe\">\n",
       "  <thead>\n",
       "    <tr style=\"text-align: right;\">\n",
       "      <th></th>\n",
       "      <th>name</th>\n",
       "      <th>home</th>\n",
       "      <th>dob</th>\n",
       "      <th>house</th>\n",
       "      <th>role</th>\n",
       "    </tr>\n",
       "  </thead>\n",
       "  <tbody>\n",
       "    <tr>\n",
       "      <th>0</th>\n",
       "      <td>Harry</td>\n",
       "      <td>Hogwarts</td>\n",
       "      <td>31 July</td>\n",
       "      <td>Gryffindor</td>\n",
       "      <td>NaT</td>\n",
       "    </tr>\n",
       "  </tbody>\n",
       "</table>\n",
       "</div>"
      ],
      "text/plain": [
       "    name      home      dob       house role\n",
       "0  Harry  Hogwarts  31 July  Gryffindor  NaT"
      ]
     },
     "execution_count": 170,
     "metadata": {},
     "output_type": "execute_result"
    }
   ],
   "source": [
    "data.drop_duplicates(subset=['dob'], keep=False)                     "
   ]
  },
  {
   "cell_type": "code",
   "execution_count": 171,
   "metadata": {},
   "outputs": [
    {
     "data": {
      "text/plain": [
       "(3, 5)"
      ]
     },
     "execution_count": 171,
     "metadata": {},
     "output_type": "execute_result"
    }
   ],
   "source": [
    "data.shape"
   ]
  },
  {
   "cell_type": "code",
   "execution_count": 172,
   "metadata": {},
   "outputs": [
    {
     "name": "stdout",
     "output_type": "stream",
     "text": [
      "<class 'pandas.core.frame.DataFrame'>\n",
      "RangeIndex: 3 entries, 0 to 2\n",
      "Data columns (total 5 columns):\n",
      " #   Column  Non-Null Count  Dtype         \n",
      "---  ------  --------------  -----         \n",
      " 0   name    3 non-null      object        \n",
      " 1   home    2 non-null      object        \n",
      " 2   dob     1 non-null      object        \n",
      " 3   house   3 non-null      object        \n",
      " 4   role    0 non-null      datetime64[ns]\n",
      "dtypes: datetime64[ns](1), object(4)\n",
      "memory usage: 252.0+ bytes\n"
     ]
    }
   ],
   "source": [
    "data.info()"
   ]
  },
  {
   "cell_type": "markdown",
   "metadata": {},
   "source": [
    "Check for value count"
   ]
  },
  {
   "cell_type": "code",
   "execution_count": 173,
   "metadata": {},
   "outputs": [
    {
     "data": {
      "text/plain": [
       "home\n",
       "Hogwarts    1\n",
       "Burrow      1\n",
       "NaN         1\n",
       "Name: count, dtype: int64"
      ]
     },
     "execution_count": 173,
     "metadata": {},
     "output_type": "execute_result"
    }
   ],
   "source": [
    "data['home'].value_counts(dropna=False)"
   ]
  },
  {
   "cell_type": "code",
   "execution_count": 174,
   "metadata": {},
   "outputs": [
    {
     "data": {
      "text/plain": [
       "name\n",
       "Harry       1\n",
       "Ron         1\n",
       "Hermione    1\n",
       "Name: count, dtype: int64"
      ]
     },
     "execution_count": 174,
     "metadata": {},
     "output_type": "execute_result"
    }
   ],
   "source": [
    "data['name'].value_counts()"
   ]
  },
  {
   "cell_type": "markdown",
   "metadata": {},
   "source": [
    "---------------------------------------------------------------------------------------"
   ]
  },
  {
   "cell_type": "code",
   "execution_count": 175,
   "metadata": {},
   "outputs": [
    {
     "data": {
      "text/html": [
       "<div>\n",
       "<style scoped>\n",
       "    .dataframe tbody tr th:only-of-type {\n",
       "        vertical-align: middle;\n",
       "    }\n",
       "\n",
       "    .dataframe tbody tr th {\n",
       "        vertical-align: top;\n",
       "    }\n",
       "\n",
       "    .dataframe thead th {\n",
       "        text-align: right;\n",
       "    }\n",
       "</style>\n",
       "<table border=\"1\" class=\"dataframe\">\n",
       "  <thead>\n",
       "    <tr style=\"text-align: right;\">\n",
       "      <th></th>\n",
       "      <th>A</th>\n",
       "      <th>B</th>\n",
       "    </tr>\n",
       "  </thead>\n",
       "  <tbody>\n",
       "    <tr>\n",
       "      <th>0</th>\n",
       "      <td>6</td>\n",
       "      <td>9</td>\n",
       "    </tr>\n",
       "    <tr>\n",
       "      <th>1</th>\n",
       "      <td>8</td>\n",
       "      <td>3</td>\n",
       "    </tr>\n",
       "    <tr>\n",
       "      <th>2</th>\n",
       "      <td>2</td>\n",
       "      <td>15</td>\n",
       "    </tr>\n",
       "  </tbody>\n",
       "</table>\n",
       "</div>"
      ],
      "text/plain": [
       "   A   B\n",
       "0  6   9\n",
       "1  8   3\n",
       "2  2  15"
      ]
     },
     "execution_count": 175,
     "metadata": {},
     "output_type": "execute_result"
    }
   ],
   "source": [
    "idf = pd.DataFrame({ 'A': [6, 8, 2], 'B': [9, 3, 15]})\n",
    "#idf = pd.DataFrame([[6, 8, 2], [9, 3, 15]], columns=['A', 'B'])\n",
    "idf"
   ]
  },
  {
   "cell_type": "code",
   "execution_count": 176,
   "metadata": {},
   "outputs": [
    {
     "data": {
      "text/html": [
       "<div>\n",
       "<style scoped>\n",
       "    .dataframe tbody tr th:only-of-type {\n",
       "        vertical-align: middle;\n",
       "    }\n",
       "\n",
       "    .dataframe tbody tr th {\n",
       "        vertical-align: top;\n",
       "    }\n",
       "\n",
       "    .dataframe thead th {\n",
       "        text-align: right;\n",
       "    }\n",
       "</style>\n",
       "<table border=\"1\" class=\"dataframe\">\n",
       "  <thead>\n",
       "    <tr style=\"text-align: right;\">\n",
       "      <th></th>\n",
       "      <th>A</th>\n",
       "      <th>B</th>\n",
       "    </tr>\n",
       "  </thead>\n",
       "  <tbody>\n",
       "    <tr>\n",
       "      <th>count</th>\n",
       "      <td>3.000000</td>\n",
       "      <td>3.0</td>\n",
       "    </tr>\n",
       "    <tr>\n",
       "      <th>mean</th>\n",
       "      <td>5.333333</td>\n",
       "      <td>9.0</td>\n",
       "    </tr>\n",
       "    <tr>\n",
       "      <th>std</th>\n",
       "      <td>3.055050</td>\n",
       "      <td>6.0</td>\n",
       "    </tr>\n",
       "    <tr>\n",
       "      <th>min</th>\n",
       "      <td>2.000000</td>\n",
       "      <td>3.0</td>\n",
       "    </tr>\n",
       "    <tr>\n",
       "      <th>25%</th>\n",
       "      <td>4.000000</td>\n",
       "      <td>6.0</td>\n",
       "    </tr>\n",
       "    <tr>\n",
       "      <th>50%</th>\n",
       "      <td>6.000000</td>\n",
       "      <td>9.0</td>\n",
       "    </tr>\n",
       "    <tr>\n",
       "      <th>75%</th>\n",
       "      <td>7.000000</td>\n",
       "      <td>12.0</td>\n",
       "    </tr>\n",
       "    <tr>\n",
       "      <th>max</th>\n",
       "      <td>8.000000</td>\n",
       "      <td>15.0</td>\n",
       "    </tr>\n",
       "  </tbody>\n",
       "</table>\n",
       "</div>"
      ],
      "text/plain": [
       "              A     B\n",
       "count  3.000000   3.0\n",
       "mean   5.333333   9.0\n",
       "std    3.055050   6.0\n",
       "min    2.000000   3.0\n",
       "25%    4.000000   6.0\n",
       "50%    6.000000   9.0\n",
       "75%    7.000000  12.0\n",
       "max    8.000000  15.0"
      ]
     },
     "execution_count": 176,
     "metadata": {},
     "output_type": "execute_result"
    }
   ],
   "source": [
    "idf.describe()"
   ]
  },
  {
   "cell_type": "markdown",
   "metadata": {},
   "source": [
    "Calculate Mean"
   ]
  },
  {
   "cell_type": "code",
   "execution_count": 177,
   "metadata": {},
   "outputs": [
    {
     "data": {
      "text/plain": [
       "A    5.333333\n",
       "B    9.000000\n",
       "dtype: float64"
      ]
     },
     "execution_count": 177,
     "metadata": {},
     "output_type": "execute_result"
    }
   ],
   "source": [
    "idf.mean()"
   ]
  },
  {
   "cell_type": "markdown",
   "metadata": {},
   "source": [
    "Calculate Median"
   ]
  },
  {
   "cell_type": "code",
   "execution_count": 178,
   "metadata": {},
   "outputs": [
    {
     "data": {
      "text/plain": [
       "A    6.0\n",
       "B    9.0\n",
       "dtype: float64"
      ]
     },
     "execution_count": 178,
     "metadata": {},
     "output_type": "execute_result"
    }
   ],
   "source": [
    "idf.median()"
   ]
  },
  {
   "cell_type": "markdown",
   "metadata": {},
   "source": [
    "Calculate Standard Deviation"
   ]
  },
  {
   "cell_type": "code",
   "execution_count": 179,
   "metadata": {},
   "outputs": [
    {
     "data": {
      "text/plain": [
       "A    3.05505\n",
       "B    6.00000\n",
       "dtype: float64"
      ]
     },
     "execution_count": 179,
     "metadata": {},
     "output_type": "execute_result"
    }
   ],
   "source": [
    "idf.std()"
   ]
  },
  {
   "cell_type": "code",
   "execution_count": 180,
   "metadata": {},
   "outputs": [
    {
     "data": {
      "text/html": [
       "<div>\n",
       "<style scoped>\n",
       "    .dataframe tbody tr th:only-of-type {\n",
       "        vertical-align: middle;\n",
       "    }\n",
       "\n",
       "    .dataframe tbody tr th {\n",
       "        vertical-align: top;\n",
       "    }\n",
       "\n",
       "    .dataframe thead th {\n",
       "        text-align: right;\n",
       "    }\n",
       "</style>\n",
       "<table border=\"1\" class=\"dataframe\">\n",
       "  <thead>\n",
       "    <tr style=\"text-align: right;\">\n",
       "      <th></th>\n",
       "      <th>A</th>\n",
       "      <th>B</th>\n",
       "    </tr>\n",
       "  </thead>\n",
       "  <tbody>\n",
       "    <tr>\n",
       "      <th>A</th>\n",
       "      <td>1.000000</td>\n",
       "      <td>-0.981981</td>\n",
       "    </tr>\n",
       "    <tr>\n",
       "      <th>B</th>\n",
       "      <td>-0.981981</td>\n",
       "      <td>1.000000</td>\n",
       "    </tr>\n",
       "  </tbody>\n",
       "</table>\n",
       "</div>"
      ],
      "text/plain": [
       "          A         B\n",
       "A  1.000000 -0.981981\n",
       "B -0.981981  1.000000"
      ]
     },
     "execution_count": 180,
     "metadata": {},
     "output_type": "execute_result"
    }
   ],
   "source": [
    "idf.corr()"
   ]
  },
  {
   "cell_type": "code",
   "execution_count": 181,
   "metadata": {},
   "outputs": [
    {
     "data": {
      "text/plain": [
       "A    3\n",
       "B    3\n",
       "dtype: int64"
      ]
     },
     "execution_count": 181,
     "metadata": {},
     "output_type": "execute_result"
    }
   ],
   "source": [
    "idf.count()"
   ]
  },
  {
   "cell_type": "markdown",
   "metadata": {},
   "source": [
    "Find Maximum Value"
   ]
  },
  {
   "cell_type": "code",
   "execution_count": 182,
   "metadata": {},
   "outputs": [
    {
     "data": {
      "text/plain": [
       "A     8\n",
       "B    15\n",
       "dtype: int64"
      ]
     },
     "execution_count": 182,
     "metadata": {},
     "output_type": "execute_result"
    }
   ],
   "source": [
    "idf.max()"
   ]
  },
  {
   "cell_type": "markdown",
   "metadata": {},
   "source": [
    "Find Minimum Value"
   ]
  },
  {
   "cell_type": "code",
   "execution_count": 183,
   "metadata": {},
   "outputs": [
    {
     "data": {
      "text/plain": [
       "A    2\n",
       "B    3\n",
       "dtype: int64"
      ]
     },
     "execution_count": 183,
     "metadata": {},
     "output_type": "execute_result"
    }
   ],
   "source": [
    "idf.min()"
   ]
  },
  {
   "cell_type": "code",
   "execution_count": 184,
   "metadata": {},
   "outputs": [
    {
     "data": {
      "text/plain": [
       "0    6\n",
       "1    8\n",
       "2    2\n",
       "Name: A, dtype: category\n",
       "Categories (3, int64): [2, 6, 8]"
      ]
     },
     "execution_count": 184,
     "metadata": {},
     "output_type": "execute_result"
    }
   ],
   "source": [
    "# categorical data is data which takes on a finite number of possible values\n",
    "\n",
    "idf['A'].astype('category')                   # category var creates category obj. he category data type in pandas is a hybrid data type. It looks and behaves like a string in many instances but internally is represented by an array of integers. This allows the data to be sorted in a custom order and to more efficiently store the data. "
   ]
  },
  {
   "cell_type": "markdown",
   "metadata": {},
   "source": [
    "------------------------------------------------------------------------------------------   "
   ]
  },
  {
   "cell_type": "code",
   "execution_count": 185,
   "metadata": {},
   "outputs": [
    {
     "data": {
      "text/html": [
       "<div>\n",
       "<style scoped>\n",
       "    .dataframe tbody tr th:only-of-type {\n",
       "        vertical-align: middle;\n",
       "    }\n",
       "\n",
       "    .dataframe tbody tr th {\n",
       "        vertical-align: top;\n",
       "    }\n",
       "\n",
       "    .dataframe thead th {\n",
       "        text-align: right;\n",
       "    }\n",
       "</style>\n",
       "<table border=\"1\" class=\"dataframe\">\n",
       "  <thead>\n",
       "    <tr style=\"text-align: right;\">\n",
       "      <th></th>\n",
       "      <th>Unnamed: 0</th>\n",
       "      <th>Book 2.0</th>\n",
       "      <th>Author 2.0</th>\n",
       "      <th>Year 2.0</th>\n",
       "    </tr>\n",
       "  </thead>\n",
       "  <tbody>\n",
       "    <tr>\n",
       "      <th>0</th>\n",
       "      <td>0</td>\n",
       "      <td>Harry Potter</td>\n",
       "      <td>JK Rowling</td>\n",
       "      <td>1997.0</td>\n",
       "    </tr>\n",
       "    <tr>\n",
       "      <th>1</th>\n",
       "      <td>1</td>\n",
       "      <td>Six of Crows</td>\n",
       "      <td>Leigh Bardugo</td>\n",
       "      <td>2015.0</td>\n",
       "    </tr>\n",
       "    <tr>\n",
       "      <th>2</th>\n",
       "      <td>2</td>\n",
       "      <td>AGGGTM</td>\n",
       "      <td>Holly Jackson</td>\n",
       "      <td>2019.0</td>\n",
       "    </tr>\n",
       "    <tr>\n",
       "      <th>3</th>\n",
       "      <td>3</td>\n",
       "      <td>The Cruel Prince</td>\n",
       "      <td>Holly Black</td>\n",
       "      <td>2018.0</td>\n",
       "    </tr>\n",
       "    <tr>\n",
       "      <th>4</th>\n",
       "      <td>4</td>\n",
       "      <td>Throne of Glass</td>\n",
       "      <td>Sarah J Mass</td>\n",
       "      <td>2012.0</td>\n",
       "    </tr>\n",
       "    <tr>\n",
       "      <th>5</th>\n",
       "      <td>5</td>\n",
       "      <td>Shadow &amp; Bone</td>\n",
       "      <td>Leigh Bardugo</td>\n",
       "      <td>NaN</td>\n",
       "    </tr>\n",
       "  </tbody>\n",
       "</table>\n",
       "</div>"
      ],
      "text/plain": [
       "   Unnamed: 0          Book 2.0     Author 2.0  Year 2.0\n",
       "0           0      Harry Potter     JK Rowling    1997.0\n",
       "1           1      Six of Crows  Leigh Bardugo    2015.0\n",
       "2           2            AGGGTM  Holly Jackson    2019.0\n",
       "3           3  The Cruel Prince    Holly Black    2018.0\n",
       "4           4   Throne of Glass   Sarah J Mass    2012.0\n",
       "5           5     Shadow & Bone  Leigh Bardugo       NaN"
      ]
     },
     "execution_count": 185,
     "metadata": {},
     "output_type": "execute_result"
    }
   ],
   "source": [
    "# handling excel files\n",
    "\n",
    "datas = pd.read_excel('datas.xlsx')                            # openpyxl module is required (pip install openpyxl)\n",
    "datas"
   ]
  },
  {
   "cell_type": "markdown",
   "metadata": {},
   "source": [
    "Reading multiple sheets"
   ]
  },
  {
   "cell_type": "code",
   "execution_count": 186,
   "metadata": {},
   "outputs": [],
   "source": [
    "# for another sheet in the same file\n",
    "# reading multiple sheets\n",
    "\n",
    "# datas = pd.read_excel('datas.xlsx', sheet_name= 'Sheet2')"
   ]
  },
  {
   "cell_type": "code",
   "execution_count": 187,
   "metadata": {},
   "outputs": [
    {
     "data": {
      "text/html": [
       "<div>\n",
       "<style scoped>\n",
       "    .dataframe tbody tr th:only-of-type {\n",
       "        vertical-align: middle;\n",
       "    }\n",
       "\n",
       "    .dataframe tbody tr th {\n",
       "        vertical-align: top;\n",
       "    }\n",
       "\n",
       "    .dataframe thead th {\n",
       "        text-align: right;\n",
       "    }\n",
       "</style>\n",
       "<table border=\"1\" class=\"dataframe\">\n",
       "  <thead>\n",
       "    <tr style=\"text-align: right;\">\n",
       "      <th></th>\n",
       "      <th>Unnamed: 0</th>\n",
       "      <th>Book 2.0</th>\n",
       "      <th>Author 2.0</th>\n",
       "      <th>Year 2.0</th>\n",
       "    </tr>\n",
       "  </thead>\n",
       "  <tbody>\n",
       "    <tr>\n",
       "      <th>0</th>\n",
       "      <td>0</td>\n",
       "      <td>Harry Potter</td>\n",
       "      <td>JK Rowling</td>\n",
       "      <td>1997.0</td>\n",
       "    </tr>\n",
       "    <tr>\n",
       "      <th>1</th>\n",
       "      <td>1</td>\n",
       "      <td>Six of Crows</td>\n",
       "      <td>Leigh Bardugo</td>\n",
       "      <td>2015.0</td>\n",
       "    </tr>\n",
       "    <tr>\n",
       "      <th>2</th>\n",
       "      <td>2</td>\n",
       "      <td>AGGGTM</td>\n",
       "      <td>Holly Jackson</td>\n",
       "      <td>2019.0</td>\n",
       "    </tr>\n",
       "    <tr>\n",
       "      <th>3</th>\n",
       "      <td>3</td>\n",
       "      <td>The Cruel Prince</td>\n",
       "      <td>2018</td>\n",
       "      <td>2018.0</td>\n",
       "    </tr>\n",
       "    <tr>\n",
       "      <th>4</th>\n",
       "      <td>4</td>\n",
       "      <td>Throne of Glass</td>\n",
       "      <td>Sarah J Mass</td>\n",
       "      <td>2012.0</td>\n",
       "    </tr>\n",
       "    <tr>\n",
       "      <th>5</th>\n",
       "      <td>5</td>\n",
       "      <td>Shadow &amp; Bone</td>\n",
       "      <td>Leigh Bardugo</td>\n",
       "      <td>NaN</td>\n",
       "    </tr>\n",
       "  </tbody>\n",
       "</table>\n",
       "</div>"
      ],
      "text/plain": [
       "   Unnamed: 0          Book 2.0     Author 2.0  Year 2.0\n",
       "0           0      Harry Potter     JK Rowling    1997.0\n",
       "1           1      Six of Crows  Leigh Bardugo    2015.0\n",
       "2           2            AGGGTM  Holly Jackson    2019.0\n",
       "3           3  The Cruel Prince           2018    2018.0\n",
       "4           4   Throne of Glass   Sarah J Mass    2012.0\n",
       "5           5     Shadow & Bone  Leigh Bardugo       NaN"
      ]
     },
     "execution_count": 187,
     "metadata": {},
     "output_type": "execute_result"
    }
   ],
   "source": [
    "datas.iloc[3, 2] = 2018\n",
    "datas"
   ]
  },
  {
   "cell_type": "code",
   "execution_count": 188,
   "metadata": {},
   "outputs": [],
   "source": [
    "# saving the changes made to the excel file\n",
    "\n",
    "datas.to_excel('datas.xlsx')                             # might remove other sheets, look for ways to save"
   ]
  },
  {
   "cell_type": "markdown",
   "metadata": {},
   "source": [
    "Merging data"
   ]
  },
  {
   "cell_type": "code",
   "execution_count": 189,
   "metadata": {},
   "outputs": [
    {
     "data": {
      "text/html": [
       "<div>\n",
       "<style scoped>\n",
       "    .dataframe tbody tr th:only-of-type {\n",
       "        vertical-align: middle;\n",
       "    }\n",
       "\n",
       "    .dataframe tbody tr th {\n",
       "        vertical-align: top;\n",
       "    }\n",
       "\n",
       "    .dataframe thead th {\n",
       "        text-align: right;\n",
       "    }\n",
       "</style>\n",
       "<table border=\"1\" class=\"dataframe\">\n",
       "  <thead>\n",
       "    <tr style=\"text-align: right;\">\n",
       "      <th></th>\n",
       "      <th>Unnamed: 0</th>\n",
       "      <th>Book 2.0</th>\n",
       "      <th>Author 2.0</th>\n",
       "      <th>Year 2.0</th>\n",
       "      <th>Book</th>\n",
       "      <th>Author</th>\n",
       "      <th>Year</th>\n",
       "    </tr>\n",
       "  </thead>\n",
       "  <tbody>\n",
       "    <tr>\n",
       "      <th>0</th>\n",
       "      <td>0</td>\n",
       "      <td>Harry Potter</td>\n",
       "      <td>JK Rowling</td>\n",
       "      <td>1997.0</td>\n",
       "      <td>Harry Potter</td>\n",
       "      <td>JK Rowling</td>\n",
       "      <td>1997.0</td>\n",
       "    </tr>\n",
       "    <tr>\n",
       "      <th>1</th>\n",
       "      <td>1</td>\n",
       "      <td>Six of Crows</td>\n",
       "      <td>Leigh Bardugo</td>\n",
       "      <td>2015.0</td>\n",
       "      <td>Six of Crows</td>\n",
       "      <td>Leigh Bardugo</td>\n",
       "      <td>2015.0</td>\n",
       "    </tr>\n",
       "    <tr>\n",
       "      <th>2</th>\n",
       "      <td>2</td>\n",
       "      <td>AGGGTM</td>\n",
       "      <td>Holly Jackson</td>\n",
       "      <td>2019.0</td>\n",
       "      <td>AGGGTM</td>\n",
       "      <td>Holly Jackson</td>\n",
       "      <td>2019.0</td>\n",
       "    </tr>\n",
       "    <tr>\n",
       "      <th>3</th>\n",
       "      <td>3</td>\n",
       "      <td>The Cruel Prince</td>\n",
       "      <td>2018</td>\n",
       "      <td>2018.0</td>\n",
       "      <td>The Cruel Prince</td>\n",
       "      <td>Holly Black</td>\n",
       "      <td>NaN</td>\n",
       "    </tr>\n",
       "    <tr>\n",
       "      <th>4</th>\n",
       "      <td>4</td>\n",
       "      <td>Throne of Glass</td>\n",
       "      <td>Sarah J Mass</td>\n",
       "      <td>2012.0</td>\n",
       "      <td>Throne of Glass</td>\n",
       "      <td>Sarah J Mass</td>\n",
       "      <td>2012.0</td>\n",
       "    </tr>\n",
       "  </tbody>\n",
       "</table>\n",
       "</div>"
      ],
      "text/plain": [
       "   Unnamed: 0          Book 2.0     Author 2.0  Year 2.0              Book  \\\n",
       "0           0      Harry Potter     JK Rowling    1997.0      Harry Potter   \n",
       "1           1      Six of Crows  Leigh Bardugo    2015.0      Six of Crows   \n",
       "2           2            AGGGTM  Holly Jackson    2019.0            AGGGTM   \n",
       "3           3  The Cruel Prince           2018    2018.0  The Cruel Prince   \n",
       "4           4   Throne of Glass   Sarah J Mass    2012.0   Throne of Glass   \n",
       "\n",
       "          Author    Year  \n",
       "0     JK Rowling  1997.0  \n",
       "1  Leigh Bardugo  2015.0  \n",
       "2  Holly Jackson  2019.0  \n",
       "3    Holly Black     NaN  \n",
       "4   Sarah J Mass  2012.0  "
      ]
     },
     "execution_count": 189,
     "metadata": {},
     "output_type": "execute_result"
    }
   ],
   "source": [
    "merge = pd.merge(datas, details, right_on='Book', left_on='Book 2.0')\n",
    "merge"
   ]
  },
  {
   "cell_type": "markdown",
   "metadata": {},
   "source": [
    "**Note:** When dealing with large datasets, do not create and leave so many dataframes of such large sizes.. it is gonna consume all the system memory."
   ]
  }
 ],
 "metadata": {
  "kernelspec": {
   "display_name": "Python 3",
   "language": "python",
   "name": "python3"
  },
  "language_info": {
   "codemirror_mode": {
    "name": "ipython",
    "version": 3
   },
   "file_extension": ".py",
   "mimetype": "text/x-python",
   "name": "python",
   "nbconvert_exporter": "python",
   "pygments_lexer": "ipython3",
   "version": "3.11.9"
  }
 },
 "nbformat": 4,
 "nbformat_minor": 4
}
